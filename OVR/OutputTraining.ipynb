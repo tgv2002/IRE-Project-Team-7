{
 "cells": [
  {
   "cell_type": "code",
   "execution_count": 1,
   "id": "bd06250a",
   "metadata": {
    "execution": {
     "iopub.execute_input": "2021-11-15T16:58:04.559680Z",
     "iopub.status.busy": "2021-11-15T16:58:04.559193Z",
     "iopub.status.idle": "2021-11-15T16:58:10.933861Z",
     "shell.execute_reply": "2021-11-15T16:58:10.933382Z"
    },
    "papermill": {
     "duration": 6.396283,
     "end_time": "2021-11-15T16:58:10.933994",
     "exception": false,
     "start_time": "2021-11-15T16:58:04.537711",
     "status": "completed"
    },
    "tags": []
   },
   "outputs": [],
   "source": [
    "# Required imports\n",
    "import matplotlib\n",
    "import numpy as np\n",
    "import pandas as pd\n",
    "from sklearn.ensemble import RandomForestClassifier\n",
    "from sklearn.model_selection import train_test_split\n",
    "from sklearn.feature_extraction.text import CountVectorizer\n",
    "from sklearn.feature_extraction.text import TfidfTransformer\n",
    "from sklearn.utils import shuffle\n",
    "from sklearn.metrics import classification_report, accuracy_score\n",
    "import re\n",
    "# from tensorflow.keras.utils import to_categorical\n",
    "from sklearn.preprocessing import LabelEncoder\n",
    "from sklearn.ensemble import BaggingClassifier\n",
    "from sklearn.linear_model import LogisticRegression\n",
    "from nltk.corpus import stopwords\n",
    "stop_words = set(stopwords.words('english'))\n",
    "import pickle"
   ]
  },
  {
   "cell_type": "code",
   "execution_count": 2,
   "id": "10cfab5e",
   "metadata": {
    "execution": {
     "iopub.execute_input": "2021-11-15T16:58:10.965303Z",
     "iopub.status.busy": "2021-11-15T16:58:10.964852Z",
     "iopub.status.idle": "2021-11-15T16:58:10.966533Z",
     "shell.execute_reply": "2021-11-15T16:58:10.966892Z"
    },
    "papermill": {
     "duration": 0.018713,
     "end_time": "2021-11-15T16:58:10.966993",
     "exception": false,
     "start_time": "2021-11-15T16:58:10.948280",
     "status": "completed"
    },
    "tags": []
   },
   "outputs": [],
   "source": [
    "# cleaning data\n",
    "def clean_post(post):\n",
    "    post = post.lower()\n",
    "    post = re.sub(r\"\\n\", \" \", post)\n",
    "    post = re.sub(\"[\\<\\[].*?[\\>\\]]\", \" \", post)\n",
    "    post = re.sub(r\"[^a-z ]\", \" \", post)\n",
    "    post = re.sub(r\"\\b\\w{1,3}\\b\", \" \", post)\n",
    "    return \" \".join([x for x in post.split() if x not in stop_words])"
   ]
  },
  {
   "cell_type": "code",
   "execution_count": 3,
   "id": "be3d80f0",
   "metadata": {
    "execution": {
     "iopub.execute_input": "2021-11-15T16:58:10.999900Z",
     "iopub.status.busy": "2021-11-15T16:58:10.999437Z",
     "iopub.status.idle": "2021-11-15T16:58:11.315467Z",
     "shell.execute_reply": "2021-11-15T16:58:11.315086Z"
    },
    "papermill": {
     "duration": 0.33453,
     "end_time": "2021-11-15T16:58:11.315565",
     "exception": false,
     "start_time": "2021-11-15T16:58:10.981035",
     "status": "completed"
    },
    "tags": []
   },
   "outputs": [],
   "source": [
    "# Different techniques for tackling class imbalance\n",
    "from imblearn.under_sampling import RandomUnderSampler, TomekLinks, NearMiss\n",
    "from imblearn.over_sampling import RandomOverSampler, SMOTE\n",
    "\n",
    "def balance_data(x, y, _type):\n",
    "    if _type == 0:\n",
    "        ros = RandomOverSampler(random_state=42)\n",
    "        return ros.fit_resample(x, y)\n",
    "    elif _type == 1:\n",
    "        rus = RandomUnderSampler(random_state=42, replacement=True)\n",
    "        return rus.fit_resample(x, y)\n",
    "    elif _type == 2:\n",
    "        smote = SMOTE()\n",
    "        return smote.fit_resample(x, y)\n",
    "    elif _type == 3:\n",
    "        nm = NearMiss()\n",
    "        return nm.fit_resample(x, y)\n",
    "    elif _type == 6:\n",
    "        tl = TomekLinks()\n",
    "        return tl.fit_resample(x, y)\n",
    "    return x, y\n",
    "    # Another technique is penalizing the algo with class_weight=balanced, using stratified cross validation"
   ]
  },
  {
   "cell_type": "code",
   "execution_count": 4,
   "id": "4633de55",
   "metadata": {
    "execution": {
     "iopub.execute_input": "2021-11-15T16:58:11.345899Z",
     "iopub.status.busy": "2021-11-15T16:58:11.345477Z",
     "iopub.status.idle": "2021-11-15T16:59:06.131985Z",
     "shell.execute_reply": "2021-11-15T16:59:06.131599Z"
    },
    "papermill": {
     "duration": 54.802999,
     "end_time": "2021-11-15T16:59:06.132088",
     "exception": false,
     "start_time": "2021-11-15T16:58:11.329089",
     "status": "completed"
    },
    "tags": []
   },
   "outputs": [
    {
     "name": "stdout",
     "output_type": "stream",
     "text": [
      "                mental_disorder                             \n",
      "                          count unique            top   freq\n",
      "mental_disorder                                             \n",
      "EDAnonymous               12339      1    EDAnonymous  12339\n",
      "addiction                  6515      1      addiction   6515\n",
      "adhd                      38786      1           adhd  38786\n",
      "alcoholism                 5026      1     alcoholism   5026\n",
      "anxiety                   48971      1        anxiety  48971\n",
      "autism                     7583      1         autism   7583\n",
      "bipolarreddit              4929      1  bipolarreddit   4929\n",
      "bpd                       20606      1            bpd  20606\n",
      "depression                99809      1     depression  99809\n",
      "healthanxiety              7373      1  healthanxiety   7373\n",
      "lonely                    20103      1         lonely  20103\n",
      "ptsd                       7336      1           ptsd   7336\n",
      "schizophrenia              7351      1  schizophrenia   7351\n",
      "socialanxiety             19416      1  socialanxiety  19416\n",
      "suicidewatch              56357      1   suicidewatch  56357\n"
     ]
    }
   ],
   "source": [
    "# Load data\n",
    "data = pd.read_csv('/home/starc52/split_reddit_data/train_and_valid.csv')\n",
    "data = shuffle(data)\n",
    "\n",
    "# Class split stats\n",
    "print(data.groupby(['mental_disorder'])[['mental_disorder']].describe())\n",
    "x = data['post'].apply(lambda post: clean_post(post))\n",
    "\n",
    "# Vectorizing text data\n",
    "count_vect = CountVectorizer()\n",
    "X_counts = count_vect.fit_transform(x)\n",
    "tfidf_transformer = TfidfTransformer()\n",
    "X = tfidf_transformer.fit_transform(X_counts)"
   ]
  },
  {
   "cell_type": "code",
   "execution_count": 5,
   "id": "5813a1e4",
   "metadata": {
    "execution": {
     "iopub.execute_input": "2021-11-15T16:59:06.163488Z",
     "iopub.status.busy": "2021-11-15T16:59:06.162771Z",
     "iopub.status.idle": "2021-11-15T16:59:06.354213Z",
     "shell.execute_reply": "2021-11-15T16:59:06.354537Z"
    },
    "papermill": {
     "duration": 0.208682,
     "end_time": "2021-11-15T16:59:06.354669",
     "exception": false,
     "start_time": "2021-11-15T16:59:06.145987",
     "status": "completed"
    },
    "tags": []
   },
   "outputs": [],
   "source": [
    "label_encoder = LabelEncoder()\n",
    "y = label_encoder.fit_transform(np.array(data['mental_disorder']))\n",
    "# y = to_categorical(y1)\n",
    "\n",
    "# 60-20-20 split\n",
    "X_train, X_valid, y_train, y_valid = train_test_split(X, y, test_size=0.176, random_state=321)"
   ]
  },
  {
   "cell_type": "code",
   "execution_count": 6,
   "id": "37a56835",
   "metadata": {
    "execution": {
     "iopub.execute_input": "2021-11-15T16:59:06.384625Z",
     "iopub.status.busy": "2021-11-15T16:59:06.382990Z",
     "iopub.status.idle": "2021-11-15T16:59:06.386093Z",
     "shell.execute_reply": "2021-11-15T16:59:06.386473Z"
    },
    "papermill": {
     "duration": 0.018512,
     "end_time": "2021-11-15T16:59:06.386567",
     "exception": false,
     "start_time": "2021-11-15T16:59:06.368055",
     "status": "completed"
    },
    "tags": []
   },
   "outputs": [],
   "source": [
    "def get_metrics(y_true, y_pred):\n",
    "    result1 = classification_report(y_true, y_pred)\n",
    "    print('Classification Report: ', result1)\n",
    "    result2 = accuracy_score(y_true, y_pred)\n",
    "    print('Accuracy: ', result2, \"\\n\\n\")"
   ]
  },
  {
   "cell_type": "code",
   "execution_count": null,
   "id": "72f33d5e",
   "metadata": {
    "papermill": {
     "duration": null,
     "end_time": null,
     "exception": false,
     "start_time": "2021-11-15T16:59:06.399493",
     "status": "running"
    },
    "tags": []
   },
   "outputs": [],
   "source": [
    "import gc\n",
    "\n",
    "# Creating the model and checking it for various undersampled cases\n",
    "X_tr, y_tr = X_train, y_train\n",
    "print('#'*110)\n",
    "print()\n",
    "print()\n",
    "print()\n",
    "model = BaggingClassifier(base_estimator=LogisticRegression(max_iter=10000))\n",
    "X_train, y_train = balance_data(X_tr, y_tr, 6)\n",
    "model.fit(X_train, y_train)\n",
    "pickle.dump(model, open(\"/home/starc52/models/OVR.pickle.dat\", \"wb\"))\n",
    "print()\n",
    "print()\n",
    "print(model.n_features_in_)\n",
    "print('#'*110)"
   ]
  }
 ],
 "metadata": {
  "kernelspec": {
   "display_name": "Python 3 (ipykernel)",
   "language": "python",
   "name": "python3"
  },
  "language_info": {
   "codemirror_mode": {
    "name": "ipython",
    "version": 3
   },
   "file_extension": ".py",
   "mimetype": "text/x-python",
   "name": "python",
   "nbconvert_exporter": "python",
   "pygments_lexer": "ipython3",
   "version": "3.8.8"
  },
  "papermill": {
   "default_parameters": {},
   "duration": null,
   "end_time": null,
   "environment_variables": {},
   "exception": null,
   "input_path": "/home/starc52/IRE-Project-Team-7/OVR/Training.ipynb",
   "output_path": "/home/starc52/IRE-Project-Team-7/OVR/OutputTraining.ipynb",
   "parameters": {},
   "start_time": "2021-11-15T16:58:02.227802",
   "version": "2.3.3"
  }
 },
 "nbformat": 4,
 "nbformat_minor": 5
}