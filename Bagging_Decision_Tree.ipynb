{
 "cells": [
  {
   "cell_type": "code",
   "execution_count": 1,
   "id": "4f9151f4",
   "metadata": {
    "execution": {
     "iopub.execute_input": "2021-10-28T15:47:50.523754Z",
     "iopub.status.busy": "2021-10-28T15:47:50.523176Z",
     "iopub.status.idle": "2021-10-28T15:48:11.197757Z",
     "shell.execute_reply": "2021-10-28T15:48:11.198194Z"
    },
    "id": "Z1N9bc-Cf_m7",
    "papermill": {
     "duration": 20.696156,
     "end_time": "2021-10-28T15:48:11.198431",
     "exception": false,
     "start_time": "2021-10-28T15:47:50.502275",
     "status": "completed"
    },
    "tags": []
   },
   "outputs": [],
   "source": [
    "import pandas as pd\n",
    "import numpy as np\n",
    "import matplotlib.pyplot as plt\n",
    "%matplotlib inline\n",
    "import re\n",
    "import nltk\n",
    "import tensorflow as tf\n",
    "from sklearn.model_selection import train_test_split\n",
    "from sklearn.utils import shuffle\n",
    "from sklearn.preprocessing import LabelEncoder\n",
    "from sklearn.linear_model import LogisticRegression\n",
    "from sklearn.feature_extraction.text import CountVectorizer\n",
    "from sklearn.feature_extraction.text import TfidfTransformer\n",
    "from nltk.corpus import stopwords\n",
    "from imblearn.over_sampling import SMOTE\n",
    "from collections import Counter\n",
    "import keras\n",
    "from keras.preprocessing.text import Tokenizer\n",
    "from keras.preprocessing.sequence import pad_sequences\n",
    "from tensorflow.keras.utils import to_categorical\n",
    "from keras.layers import Dense\n",
    "from keras.models import Sequential\n",
    "from sklearn.ensemble import BaggingClassifier\n",
    "from sklearn.metrics import classification_report, accuracy_score\n",
    "from sklearn.tree import DecisionTreeClassifier\n",
    "from sklearn.linear_model import LogisticRegression\n",
    "import gensim\n",
    "from gensim.models import Word2Vec\n",
    "from gensim.utils import simple_preprocess\n",
    "from gensim.models.keyedvectors import KeyedVectors"
   ]
  },
  {
   "cell_type": "code",
   "execution_count": 2,
   "id": "851ffb21",
   "metadata": {
    "execution": {
     "iopub.execute_input": "2021-10-28T15:48:11.220597Z",
     "iopub.status.busy": "2021-10-28T15:48:11.220040Z",
     "iopub.status.idle": "2021-10-28T15:48:11.221797Z",
     "shell.execute_reply": "2021-10-28T15:48:11.222220Z"
    },
    "id": "hTEZ3LAngLCv",
    "papermill": {
     "duration": 0.015086,
     "end_time": "2021-10-28T15:48:11.222351",
     "exception": false,
     "start_time": "2021-10-28T15:48:11.207265",
     "status": "completed"
    },
    "tags": []
   },
   "outputs": [],
   "source": [
    "def get_metrics(y_true, y_pred):\n",
    "    result1 = classification_report(y_true, y_pred)\n",
    "    print('Classification Report: ', result1)\n",
    "    result2 = accuracy_score(y_true, y_pred)\n",
    "    print('Accuracy: ', result2, \"\\n\\n\")"
   ]
  },
  {
   "cell_type": "code",
   "execution_count": 3,
   "id": "69e7be3e",
   "metadata": {
    "colab": {
     "base_uri": "https://localhost:8080/"
    },
    "execution": {
     "iopub.execute_input": "2021-10-28T15:48:11.244422Z",
     "iopub.status.busy": "2021-10-28T15:48:11.243852Z",
     "iopub.status.idle": "2021-10-28T15:48:11.387450Z",
     "shell.execute_reply": "2021-10-28T15:48:11.387000Z"
    },
    "id": "uIvEjix7gQRj",
    "outputId": "1fb37836-6650-4b05-a81c-b40f99a853fe",
    "papermill": {
     "duration": 0.156456,
     "end_time": "2021-10-28T15:48:11.387558",
     "exception": false,
     "start_time": "2021-10-28T15:48:11.231102",
     "status": "completed"
    },
    "tags": []
   },
   "outputs": [
    {
     "name": "stderr",
     "output_type": "stream",
     "text": [
      "[nltk_data] Downloading package stopwords to\n",
      "[nltk_data]     /home2/tgv2002/nltk_data...\n",
      "[nltk_data]   Package stopwords is already up-to-date!\n"
     ]
    },
    {
     "data": {
      "text/plain": [
       "True"
      ]
     },
     "execution_count": 3,
     "metadata": {},
     "output_type": "execute_result"
    }
   ],
   "source": [
    "nltk.download('stopwords')"
   ]
  },
  {
   "cell_type": "code",
   "execution_count": 4,
   "id": "45de0b47",
   "metadata": {
    "execution": {
     "iopub.execute_input": "2021-10-28T15:48:11.409087Z",
     "iopub.status.busy": "2021-10-28T15:48:11.408559Z",
     "iopub.status.idle": "2021-10-28T15:48:11.420248Z",
     "shell.execute_reply": "2021-10-28T15:48:11.419698Z"
    },
    "id": "CX9H85mEgRn8",
    "papermill": {
     "duration": 0.023641,
     "end_time": "2021-10-28T15:48:11.420355",
     "exception": false,
     "start_time": "2021-10-28T15:48:11.396714",
     "status": "completed"
    },
    "tags": []
   },
   "outputs": [],
   "source": [
    " stop_words = set(stopwords.words('english'))"
   ]
  },
  {
   "cell_type": "code",
   "execution_count": 5,
   "id": "12cbd3f2",
   "metadata": {
    "execution": {
     "iopub.execute_input": "2021-10-28T15:48:11.442753Z",
     "iopub.status.busy": "2021-10-28T15:48:11.442222Z",
     "iopub.status.idle": "2021-10-28T15:48:11.444054Z",
     "shell.execute_reply": "2021-10-28T15:48:11.444488Z"
    },
    "id": "LA6HfIqfgTNQ",
    "papermill": {
     "duration": 0.015357,
     "end_time": "2021-10-28T15:48:11.444608",
     "exception": false,
     "start_time": "2021-10-28T15:48:11.429251",
     "status": "completed"
    },
    "tags": []
   },
   "outputs": [],
   "source": [
    "def clean_post(post):\n",
    "    post = post.lower()\n",
    "    post = re.sub(r\"\\n\", \" \", post)\n",
    "    post = re.sub(\"[\\<\\[].*?[\\>\\]]\", \" \", post)\n",
    "    post = re.sub(r\"[^a-z ]\", \" \", post)\n",
    "    post = re.sub(r\"\\b\\w{1,3}\\b\", \" \", post)\n",
    "    return \" \".join([x for x in post.split() if x not in stop_words])"
   ]
  },
  {
   "cell_type": "code",
   "execution_count": 6,
   "id": "5715b760",
   "metadata": {
    "execution": {
     "iopub.execute_input": "2021-10-28T15:48:11.494076Z",
     "iopub.status.busy": "2021-10-28T15:48:11.493543Z",
     "iopub.status.idle": "2021-10-28T15:48:11.495238Z",
     "shell.execute_reply": "2021-10-28T15:48:11.495640Z"
    },
    "id": "71AR95q8gUqZ",
    "papermill": {
     "duration": 0.018593,
     "end_time": "2021-10-28T15:48:11.495770",
     "exception": false,
     "start_time": "2021-10-28T15:48:11.477177",
     "status": "completed"
    },
    "tags": []
   },
   "outputs": [],
   "source": [
    "from imblearn.under_sampling import RandomUnderSampler, TomekLinks, NearMiss, ClusterCentroids\n",
    "from imblearn.over_sampling import RandomOverSampler, SMOTE\n",
    "from imblearn.combine import SMOTETomek\n",
    "\n",
    "def balance_data(x, y, _type):\n",
    "    if _type == 0:\n",
    "        ros = RandomOverSampler(random_state=42)\n",
    "        return ros.fit_resample(x, y)\n",
    "    elif _type == 1:\n",
    "        rus = RandomUnderSampler(random_state=42, replacement=True)\n",
    "        return rus.fit_resample(x, y)\n",
    "    elif _type == 2:\n",
    "        smote = SMOTE()\n",
    "        return smote.fit_resample(x, y)\n",
    "    elif _type == 3:\n",
    "        nm = NearMiss()\n",
    "        return nm.fit_resample(x, y)\n",
    "    elif _type == 4:\n",
    "        smt = SMOTETomek(ratio='auto')\n",
    "        return smt.fit_resample(x, y)\n",
    "    elif _type == 5:\n",
    "        cc = ClusterCentroids()\n",
    "        return cc.fit_resample(x, y)\n",
    "    elif _type == 6:\n",
    "        tl = TomekLinks()\n",
    "        return tl.fit_resample(x, y)\n",
    "\n",
    "    smote = SMOTE()\n",
    "    return smote.fit_resample(x, y)"
   ]
  },
  {
   "cell_type": "code",
   "execution_count": 7,
   "id": "1e094d68",
   "metadata": {
    "colab": {
     "base_uri": "https://localhost:8080/"
    },
    "execution": {
     "iopub.execute_input": "2021-10-28T15:48:11.520680Z",
     "iopub.status.busy": "2021-10-28T15:48:11.520093Z",
     "iopub.status.idle": "2021-10-28T15:49:25.177717Z",
     "shell.execute_reply": "2021-10-28T15:49:25.178171Z"
    },
    "id": "jFXVnznpgWKc",
    "outputId": "c18dc80e-3167-4c56-f9b4-185c3a84697e",
    "papermill": {
     "duration": 73.671663,
     "end_time": "2021-10-28T15:49:25.178366",
     "exception": false,
     "start_time": "2021-10-28T15:48:11.506703",
     "status": "completed"
    },
    "tags": []
   },
   "outputs": [
    {
     "name": "stdout",
     "output_type": "stream",
     "text": [
      "                mental_disorder                              \n",
      "                          count unique            top    freq\n",
      "mental_disorder                                              \n",
      "EDAnonymous               14577      1    EDAnonymous   14577\n",
      "addiction                  7641      1      addiction    7641\n",
      "adhd                      45631      1           adhd   45631\n",
      "alcoholism                 5911      1     alcoholism    5911\n",
      "anxiety                   57671      1        anxiety   57671\n",
      "autism                     8869      1         autism    8869\n",
      "bipolarreddit              5780      1  bipolarreddit    5780\n",
      "bpd                       24294      1            bpd   24294\n",
      "depression               117331      1     depression  117331\n",
      "healthanxiety              8648      1  healthanxiety    8648\n",
      "lonely                    23635      1         lonely   23635\n",
      "ptsd                       8643      1           ptsd    8643\n",
      "schizophrenia              8712      1  schizophrenia    8712\n",
      "socialanxiety             22996      1  socialanxiety   22996\n",
      "suicidewatch              66161      1   suicidewatch   66161\n"
     ]
    }
   ],
   "source": [
    "data = pd.read_csv('/home2/tgv2002/reddit_mental_health_dataset/reddit_dataset.csv')\n",
    "data = shuffle(data)\n",
    "\n",
    "# Class split stats\n",
    "print(data.groupby(['mental_disorder'])[['mental_disorder']].describe())\n",
    "x = data['post'].apply(lambda post: clean_post(post))\n",
    "\n",
    "# Vectorizing text data\n",
    "count_vect = CountVectorizer()\n",
    "X_counts = count_vect.fit_transform(x)\n",
    "tfidf_transformer = TfidfTransformer()\n",
    "X = tfidf_transformer.fit_transform(X_counts)"
   ]
  },
  {
   "cell_type": "code",
   "execution_count": 8,
   "id": "ffd5310a",
   "metadata": {
    "execution": {
     "iopub.execute_input": "2021-10-28T15:49:25.291481Z",
     "iopub.status.busy": "2021-10-28T15:49:25.257201Z",
     "iopub.status.idle": "2021-10-28T15:49:25.512659Z",
     "shell.execute_reply": "2021-10-28T15:49:25.513097Z"
    },
    "id": "-223yjJBgXqP",
    "papermill": {
     "duration": 0.324109,
     "end_time": "2021-10-28T15:49:25.513257",
     "exception": false,
     "start_time": "2021-10-28T15:49:25.189148",
     "status": "completed"
    },
    "tags": []
   },
   "outputs": [],
   "source": [
    "label_encoder = LabelEncoder()\n",
    "y = label_encoder.fit_transform(np.array(data['mental_disorder']))\n",
    "# y = to_categorical(y1)\n",
    "\n",
    "# 60-20-20 split\n",
    "X_train, X_test, y_train, y_test = train_test_split(X, y, test_size=0.4, random_state=321)\n",
    "X_test, X_valid, y_test, y_valid = train_test_split(X_test, y_test, test_size=0.5, random_state=321)"
   ]
  },
  {
   "cell_type": "code",
   "execution_count": 9,
   "id": "b225b4c8",
   "metadata": {
    "colab": {
     "background_save": true,
     "base_uri": "https://localhost:8080/"
    },
    "execution": {
     "iopub.execute_input": "2021-10-28T15:49:25.539057Z",
     "iopub.status.busy": "2021-10-28T15:49:25.538493Z",
     "iopub.status.idle": "2021-10-28T19:44:53.603671Z",
     "shell.execute_reply": "2021-10-28T19:44:53.603177Z"
    },
    "id": "D2ttwX1wge7y",
    "outputId": "4905873f-8936-459c-89e7-c31ed7b89100",
    "papermill": {
     "duration": 14128.080864,
     "end_time": "2021-10-28T19:44:53.603839",
     "exception": false,
     "start_time": "2021-10-28T15:49:25.522975",
     "status": "completed"
    },
    "tags": []
   },
   "outputs": [
    {
     "name": "stdout",
     "output_type": "stream",
     "text": [
      "##############################################################################################################\n",
      "\n",
      "With sampling type: 1\n"
     ]
    },
    {
     "name": "stdout",
     "output_type": "stream",
     "text": [
      "\n",
      "For training set\n",
      "\n",
      "Classification Report:                precision    recall  f1-score   support\n",
      "\n",
      "           0       0.70      0.46      0.56      3466\n",
      "           1       0.90      0.46      0.61      3466\n",
      "           2       0.92      0.52      0.67      3466\n",
      "           3       0.74      0.76      0.75      3466\n",
      "           4       0.50      0.56      0.53      3466\n",
      "           5       0.96      0.62      0.76      3466\n",
      "           6       0.87      0.48      0.62      3466\n",
      "           7       0.12      0.75      0.20      3466\n",
      "           8       0.47      0.30      0.37      3466\n",
      "           9       0.82      0.37      0.51      3466\n",
      "          10       0.73      0.35      0.47      3466\n",
      "          11       0.90      0.56      0.69      3466\n",
      "          12       0.96      0.37      0.54      3466\n",
      "          13       0.74      0.35      0.47      3466\n",
      "          14       0.60      0.21      0.31      3466\n",
      "\n",
      "    accuracy                           0.48     51990\n",
      "   macro avg       0.73      0.48      0.54     51990\n",
      "weighted avg       0.73      0.48      0.54     51990\n",
      "\n",
      "Accuracy:  0.4750528947874591 \n",
      "\n",
      "\n"
     ]
    },
    {
     "name": "stdout",
     "output_type": "stream",
     "text": [
      "\n",
      "For validation set\n",
      "\n",
      "Classification Report:                precision    recall  f1-score   support\n",
      "\n",
      "           0       0.48      0.45      0.46      2957\n",
      "           1       0.56      0.42      0.48      1539\n",
      "           2       0.91      0.51      0.66      9189\n",
      "           3       0.35      0.73      0.47      1166\n",
      "           4       0.68      0.51      0.58     11583\n",
      "           5       0.73      0.60      0.66      1792\n",
      "           6       0.38      0.45      0.42      1185\n",
      "           7       0.09      0.73      0.16      4869\n",
      "           8       0.73      0.26      0.38     23495\n",
      "           9       0.34      0.32      0.33      1681\n",
      "          10       0.52      0.34      0.41      4628\n",
      "          11       0.59      0.54      0.57      1747\n",
      "          12       0.80      0.36      0.49      1745\n",
      "          13       0.54      0.33      0.41      4646\n",
      "          14       0.58      0.17      0.26     13078\n",
      "\n",
      "    accuracy                           0.38     85300\n",
      "   macro avg       0.55      0.45      0.45     85300\n",
      "weighted avg       0.63      0.38      0.43     85300\n",
      "\n",
      "Accuracy:  0.3763774912075029 \n",
      "\n",
      "\n"
     ]
    },
    {
     "name": "stdout",
     "output_type": "stream",
     "text": [
      "\n",
      "For test set\n",
      "\n",
      "Classification Report:                precision    recall  f1-score   support\n",
      "\n",
      "           0       0.46      0.45      0.46      2879\n",
      "           1       0.56      0.42      0.48      1515\n",
      "           2       0.91      0.51      0.65      9085\n",
      "           3       0.36      0.74      0.48      1190\n",
      "           4       0.69      0.52      0.59     11428\n",
      "           5       0.75      0.61      0.67      1784\n",
      "           6       0.38      0.44      0.41      1129\n",
      "           7       0.09      0.73      0.16      4915\n",
      "           8       0.74      0.26      0.38     23580\n",
      "           9       0.37      0.31      0.34      1788\n",
      "          10       0.48      0.32      0.39      4778\n",
      "          11       0.59      0.57      0.58      1722\n",
      "          12       0.78      0.36      0.50      1705\n",
      "          13       0.52      0.32      0.40      4595\n",
      "          14       0.58      0.17      0.26     13207\n",
      "\n",
      "    accuracy                           0.37     85300\n",
      "   macro avg       0.55      0.45      0.45     85300\n",
      "weighted avg       0.63      0.37      0.43     85300\n",
      "\n",
      "Accuracy:  0.3747010550996483 \n",
      "\n",
      "\n",
      "##############################################################################################################\n",
      "\n",
      "With sampling type: 3\n"
     ]
    },
    {
     "name": "stdout",
     "output_type": "stream",
     "text": [
      "\n",
      "For training set\n",
      "\n",
      "Classification Report:                precision    recall  f1-score   support\n",
      "\n",
      "           0       0.75      0.56      0.64      3466\n",
      "           1       0.88      0.55      0.68      3466\n",
      "           2       0.91      0.63      0.74      3466\n",
      "           3       0.78      0.72      0.75      3466\n",
      "           4       0.49      0.59      0.54      3466\n",
      "           5       0.97      0.63      0.76      3466\n",
      "           6       0.76      0.47      0.58      3466\n",
      "           7       0.12      0.78      0.20      3466\n",
      "           8       0.78      0.05      0.09      3466\n",
      "           9       0.85      0.41      0.56      3466\n",
      "          10       0.76      0.36      0.49      3466\n",
      "          11       0.92      0.60      0.73      3466\n",
      "          12       0.96      0.38      0.55      3466\n",
      "          13       0.79      0.38      0.51      3466\n",
      "          14       0.50      0.18      0.26      3466\n",
      "\n",
      "    accuracy                           0.49     51990\n",
      "   macro avg       0.75      0.49      0.54     51990\n",
      "weighted avg       0.75      0.49      0.54     51990\n",
      "\n",
      "Accuracy:  0.486266589728794 \n",
      "\n",
      "\n"
     ]
    },
    {
     "name": "stdout",
     "output_type": "stream",
     "text": [
      "\n",
      "For validation set\n",
      "\n",
      "Classification Report:                precision    recall  f1-score   support\n",
      "\n",
      "           0       0.45      0.46      0.46      2957\n",
      "           1       0.52      0.53      0.53      1539\n",
      "           2       0.92      0.54      0.68      9189\n",
      "           3       0.39      0.69      0.50      1166\n",
      "           4       0.61      0.49      0.55     11583\n",
      "           5       0.73      0.60      0.65      1792\n",
      "           6       0.40      0.43      0.42      1185\n",
      "           7       0.08      0.79      0.14      4869\n",
      "           8       0.66      0.01      0.01     23495\n",
      "           9       0.29      0.33      0.31      1681\n",
      "          10       0.49      0.34      0.40      4628\n",
      "          11       0.59      0.55      0.57      1747\n",
      "          12       0.79      0.36      0.49      1745\n",
      "          13       0.50      0.35      0.41      4646\n",
      "          14       0.35      0.01      0.03     13078\n",
      "\n",
      "    accuracy                           0.29     85300\n",
      "   macro avg       0.52      0.43      0.41     85300\n",
      "weighted avg       0.56      0.29      0.29     85300\n",
      "\n",
      "Accuracy:  0.2898827667057444 \n",
      "\n",
      "\n"
     ]
    },
    {
     "name": "stdout",
     "output_type": "stream",
     "text": [
      "\n",
      "For test set\n",
      "\n",
      "Classification Report:                precision    recall  f1-score   support\n",
      "\n",
      "           0       0.44      0.46      0.45      2879\n",
      "           1       0.51      0.51      0.51      1515\n",
      "           2       0.91      0.54      0.68      9085\n",
      "           3       0.38      0.70      0.50      1190\n",
      "           4       0.62      0.50      0.56     11428\n",
      "           5       0.74      0.61      0.67      1784\n",
      "           6       0.40      0.40      0.40      1129\n",
      "           7       0.08      0.79      0.14      4915\n",
      "           8       0.69      0.01      0.01     23580\n",
      "           9       0.32      0.33      0.33      1788\n",
      "          10       0.47      0.33      0.38      4778\n",
      "          11       0.59      0.57      0.58      1722\n",
      "          12       0.79      0.37      0.50      1705\n",
      "          13       0.49      0.34      0.40      4595\n",
      "          14       0.42      0.02      0.03     13207\n",
      "\n",
      "    accuracy                           0.29     85300\n",
      "   macro avg       0.52      0.43      0.41     85300\n",
      "weighted avg       0.58      0.29      0.29     85300\n",
      "\n",
      "Accuracy:  0.2896248534583822 \n",
      "\n",
      "\n",
      "##############################################################################################################\n",
      "\n",
      "With sampling type: 6\n"
     ]
    },
    {
     "name": "stdout",
     "output_type": "stream",
     "text": [
      "\n",
      "For training set\n",
      "\n"
     ]
    },
    {
     "name": "stdout",
     "output_type": "stream",
     "text": [
      "Classification Report:                precision    recall  f1-score   support\n",
      "\n",
      "           0       0.66      0.26      0.37      8634\n",
      "           1       0.74      0.34      0.47      4511\n",
      "           2       0.94      0.58      0.72     27043\n",
      "           3       0.91      0.04      0.07      3519\n",
      "           4       0.70      0.64      0.67     33953\n",
      "           5       0.93      0.47      0.63      5190\n",
      "           6       0.87      0.14      0.24      3466\n",
      "           7       0.91      0.03      0.07     14304\n",
      "           8       0.39      0.86      0.54     69027\n",
      "           9       0.83      0.17      0.28      5056\n",
      "          10       0.65      0.32      0.43     13918\n",
      "          11       0.82      0.53      0.64      5112\n",
      "          12       0.93      0.35      0.51      5160\n",
      "          13       0.72      0.30      0.43     13464\n",
      "          14       0.67      0.37      0.48     39113\n",
      "\n",
      "    accuracy                           0.53    251470\n",
      "   macro avg       0.78      0.36      0.44    251470\n",
      "weighted avg       0.66      0.53      0.51    251470\n",
      "\n",
      "Accuracy:  0.5294587823597248 \n",
      "\n",
      "\n"
     ]
    },
    {
     "name": "stdout",
     "output_type": "stream",
     "text": [
      "\n",
      "For validation set\n",
      "\n",
      "Classification Report:                precision    recall  f1-score   support\n",
      "\n",
      "           0       0.66      0.25      0.37      2957\n",
      "           1       0.70      0.33      0.45      1539\n",
      "           2       0.91      0.58      0.71      9189\n",
      "           3       0.71      0.02      0.04      1166\n",
      "           4       0.68      0.62      0.64     11583\n",
      "           5       0.88      0.43      0.58      1792\n",
      "           6       0.55      0.08      0.14      1185\n",
      "           7       0.45      0.01      0.02      4869\n",
      "           8       0.38      0.83      0.52     23495\n",
      "           9       0.61      0.12      0.21      1681\n",
      "          10       0.62      0.30      0.41      4628\n",
      "          11       0.74      0.50      0.60      1747\n",
      "          12       0.88      0.32      0.47      1745\n",
      "          13       0.66      0.29      0.40      4646\n",
      "          14       0.58      0.33      0.42     13078\n",
      "\n",
      "    accuracy                           0.50     85300\n",
      "   macro avg       0.67      0.33      0.40     85300\n",
      "weighted avg       0.59      0.50      0.48     85300\n",
      "\n",
      "Accuracy:  0.5028604923798359 \n",
      "\n",
      "\n"
     ]
    },
    {
     "name": "stdout",
     "output_type": "stream",
     "text": [
      "\n",
      "For test set\n",
      "\n",
      "Classification Report:                precision    recall  f1-score   support\n",
      "\n",
      "           0       0.65      0.27      0.38      2879\n",
      "           1       0.70      0.34      0.46      1515\n",
      "           2       0.91      0.57      0.70      9085\n",
      "           3       0.53      0.02      0.03      1190\n",
      "           4       0.67      0.62      0.64     11428\n",
      "           5       0.87      0.44      0.59      1784\n",
      "           6       0.60      0.08      0.15      1129\n",
      "           7       0.48      0.01      0.02      4915\n",
      "           8       0.38      0.84      0.52     23580\n",
      "           9       0.62      0.12      0.21      1788\n",
      "          10       0.58      0.29      0.38      4778\n",
      "          11       0.75      0.52      0.61      1722\n",
      "          12       0.85      0.33      0.47      1705\n",
      "          13       0.66      0.28      0.39      4595\n",
      "          14       0.59      0.32      0.42     13207\n",
      "\n",
      "    accuracy                           0.50     85300\n",
      "   macro avg       0.66      0.34      0.40     85300\n",
      "weighted avg       0.59      0.50      0.48     85300\n",
      "\n",
      "Accuracy:  0.5016998827667057 \n",
      "\n",
      "\n",
      "##############################################################################################################\n",
      "\n",
      "Without any undersampling/oversampling\n"
     ]
    },
    {
     "name": "stdout",
     "output_type": "stream",
     "text": [
      "\n",
      "For training set\n",
      "\n"
     ]
    },
    {
     "name": "stdout",
     "output_type": "stream",
     "text": [
      "Classification Report:                precision    recall  f1-score   support\n",
      "\n",
      "           0       0.72      0.59      0.65     70256\n",
      "           1       0.90      0.67      0.77     70256\n",
      "           2       0.91      0.62      0.74     70256\n",
      "           3       0.85      0.75      0.79     70256\n",
      "           4       0.48      0.58      0.52     70256\n",
      "           5       0.96      0.75      0.84     70256\n",
      "           6       0.87      0.66      0.75     70256\n",
      "           7       0.43      0.07      0.12     70256\n",
      "           8       0.53      0.26      0.35     70256\n",
      "           9       0.81      0.53      0.64     70256\n",
      "          10       0.75      0.45      0.56     70256\n",
      "          11       0.91      0.74      0.82     70256\n",
      "          12       0.97      0.50      0.66     70256\n",
      "          13       0.72      0.49      0.58     70256\n",
      "          14       0.15      0.77      0.25     70256\n",
      "\n",
      "    accuracy                           0.56   1053840\n",
      "   macro avg       0.73      0.56      0.60   1053840\n",
      "weighted avg       0.73      0.56      0.60   1053840\n",
      "\n",
      "Accuracy:  0.5615102861914523 \n",
      "\n",
      "\n"
     ]
    },
    {
     "name": "stdout",
     "output_type": "stream",
     "text": [
      "\n",
      "For validation set\n",
      "\n",
      "Classification Report:                precision    recall  f1-score   support\n",
      "\n",
      "           0       0.45      0.46      0.46      2957\n",
      "           1       0.56      0.44      0.49      1539\n",
      "           2       0.91      0.52      0.66      9189\n",
      "           3       0.42      0.63      0.51      1166\n",
      "           4       0.67      0.52      0.59     11583\n",
      "           5       0.78      0.59      0.67      1792\n",
      "           6       0.38      0.45      0.42      1185\n",
      "           7       0.20      0.02      0.03      4869\n",
      "           8       0.74      0.25      0.38     23495\n",
      "           9       0.35      0.30      0.32      1681\n",
      "          10       0.51      0.34      0.41      4628\n",
      "          11       0.62      0.54      0.58      1747\n",
      "          12       0.81      0.35      0.49      1745\n",
      "          13       0.51      0.35      0.41      4646\n",
      "          14       0.22      0.75      0.34     13078\n",
      "\n",
      "    accuracy                           0.43     85300\n",
      "   macro avg       0.54      0.43      0.45     85300\n",
      "weighted avg       0.58      0.43      0.43     85300\n",
      "\n",
      "Accuracy:  0.42582649472450174 \n",
      "\n",
      "\n"
     ]
    },
    {
     "name": "stdout",
     "output_type": "stream",
     "text": [
      "\n",
      "For test set\n",
      "\n",
      "Classification Report:                precision    recall  f1-score   support\n",
      "\n",
      "           0       0.43      0.46      0.45      2879\n",
      "           1       0.57      0.43      0.49      1515\n",
      "           2       0.91      0.51      0.66      9085\n",
      "           3       0.41      0.62      0.49      1190\n",
      "           4       0.68      0.53      0.59     11428\n",
      "           5       0.79      0.60      0.68      1784\n",
      "           6       0.38      0.42      0.40      1129\n",
      "           7       0.20      0.02      0.03      4915\n",
      "           8       0.74      0.25      0.38     23580\n",
      "           9       0.36      0.29      0.32      1788\n",
      "          10       0.48      0.33      0.39      4778\n",
      "          11       0.62      0.57      0.59      1722\n",
      "          12       0.78      0.36      0.50      1705\n",
      "          13       0.50      0.33      0.40      4595\n",
      "          14       0.22      0.75      0.34     13207\n",
      "\n",
      "    accuracy                           0.42     85300\n",
      "   macro avg       0.54      0.43      0.45     85300\n",
      "weighted avg       0.58      0.42      0.43     85300\n",
      "\n",
      "Accuracy:  0.42329425556858147 \n",
      "\n",
      "\n",
      "##############################################################################################################\n",
      "\n",
      "With sampling type: 0\n"
     ]
    },
    {
     "name": "stdout",
     "output_type": "stream",
     "text": [
      "\n",
      "For training set\n",
      "\n"
     ]
    },
    {
     "name": "stdout",
     "output_type": "stream",
     "text": [
      "Classification Report:                precision    recall  f1-score   support\n",
      "\n",
      "           0       0.67      0.44      0.53     70256\n",
      "           1       0.88      0.54      0.67     70256\n",
      "           2       0.92      0.52      0.66     70256\n",
      "           3       0.76      0.72      0.74     70256\n",
      "           4       0.49      0.51      0.50     70256\n",
      "           5       0.96      0.62      0.76     70256\n",
      "           6       0.87      0.51      0.64     70256\n",
      "           7       0.11      0.75      0.20     70256\n",
      "           8       0.43      0.27      0.33     70256\n",
      "           9       0.78      0.36      0.50     70256\n",
      "          10       0.74      0.34      0.47     70256\n",
      "          11       0.91      0.56      0.69     70256\n",
      "          12       0.98      0.38      0.55     70256\n",
      "          13       0.72      0.34      0.47     70256\n",
      "          14       0.55      0.17      0.26     70256\n",
      "\n",
      "    accuracy                           0.47   1053840\n",
      "   macro avg       0.72      0.47      0.53   1053840\n",
      "weighted avg       0.72      0.47      0.53   1053840\n",
      "\n",
      "Accuracy:  0.46999449631822665 \n",
      "\n",
      "\n"
     ]
    },
    {
     "name": "stdout",
     "output_type": "stream",
     "text": [
      "\n",
      "For validation set\n",
      "\n",
      "Classification Report:                precision    recall  f1-score   support\n",
      "\n",
      "           0       0.47      0.45      0.46      2957\n",
      "           1       0.55      0.50      0.53      1539\n",
      "           2       0.91      0.52      0.66      9189\n",
      "           3       0.40      0.69      0.51      1166\n",
      "           4       0.68      0.50      0.58     11583\n",
      "           5       0.80      0.58      0.68      1792\n",
      "           6       0.42      0.45      0.44      1185\n",
      "           7       0.09      0.74      0.16      4869\n",
      "           8       0.72      0.26      0.39     23495\n",
      "           9       0.34      0.32      0.33      1681\n",
      "          10       0.54      0.34      0.41      4628\n",
      "          11       0.63      0.54      0.58      1747\n",
      "          12       0.81      0.36      0.49      1745\n",
      "          13       0.53      0.34      0.42      4646\n",
      "          14       0.60      0.16      0.26     13078\n",
      "\n",
      "    accuracy                           0.38     85300\n",
      "   macro avg       0.56      0.45      0.46     85300\n",
      "weighted avg       0.63      0.38      0.43     85300\n",
      "\n",
      "Accuracy:  0.37876905041031655 \n",
      "\n",
      "\n"
     ]
    },
    {
     "name": "stdout",
     "output_type": "stream",
     "text": [
      "\n",
      "For test set\n",
      "\n",
      "Classification Report:                precision    recall  f1-score   support\n",
      "\n",
      "           0       0.45      0.46      0.45      2879\n",
      "           1       0.56      0.49      0.52      1515\n",
      "           2       0.91      0.51      0.66      9085\n",
      "           3       0.39      0.69      0.50      1190\n",
      "           4       0.69      0.51      0.58     11428\n",
      "           5       0.80      0.60      0.69      1784\n",
      "           6       0.41      0.43      0.42      1129\n",
      "           7       0.09      0.73      0.16      4915\n",
      "           8       0.72      0.27      0.39     23580\n",
      "           9       0.36      0.32      0.34      1788\n",
      "          10       0.50      0.32      0.39      4778\n",
      "          11       0.62      0.57      0.59      1722\n",
      "          12       0.80      0.37      0.50      1705\n",
      "          13       0.52      0.33      0.40      4595\n",
      "          14       0.60      0.16      0.26     13207\n",
      "\n",
      "    accuracy                           0.38     85300\n",
      "   macro avg       0.56      0.45      0.46     85300\n",
      "weighted avg       0.63      0.38      0.43     85300\n",
      "\n",
      "Accuracy:  0.3764478311840563 \n",
      "\n",
      "\n",
      "##############################################################################################################\n",
      "\n",
      "With sampling type: 2\n"
     ]
    },
    {
     "name": "stdout",
     "output_type": "stream",
     "text": [
      "\n",
      "For training set\n",
      "\n"
     ]
    },
    {
     "name": "stdout",
     "output_type": "stream",
     "text": [
      "Classification Report:                precision    recall  f1-score   support\n",
      "\n",
      "           0       0.73      0.59      0.65     70256\n",
      "           1       0.90      0.66      0.76     70256\n",
      "           2       0.91      0.62      0.74     70256\n",
      "           3       0.84      0.75      0.79     70256\n",
      "           4       0.49      0.58      0.53     70256\n",
      "           5       0.96      0.75      0.84     70256\n",
      "           6       0.88      0.60      0.71     70256\n",
      "           7       0.13      0.70      0.23     70256\n",
      "           8       0.53      0.26      0.35     70256\n",
      "           9       0.80      0.54      0.64     70256\n",
      "          10       0.74      0.45      0.56     70256\n",
      "          11       0.91      0.74      0.82     70256\n",
      "          12       0.97      0.50      0.66     70256\n",
      "          13       0.72      0.49      0.59     70256\n",
      "          14       0.56      0.16      0.25     70256\n",
      "\n",
      "    accuracy                           0.56   1053840\n",
      "   macro avg       0.74      0.56      0.61   1053840\n",
      "weighted avg       0.74      0.56      0.61   1053840\n",
      "\n",
      "Accuracy:  0.5583077127457678 \n",
      "\n",
      "\n"
     ]
    },
    {
     "name": "stdout",
     "output_type": "stream",
     "text": [
      "\n",
      "For validation set\n",
      "\n",
      "Classification Report:                precision    recall  f1-score   support\n",
      "\n",
      "           0       0.45      0.46      0.46      2957\n",
      "           1       0.58      0.43      0.49      1539\n",
      "           2       0.91      0.52      0.66      9189\n",
      "           3       0.42      0.64      0.51      1166\n",
      "           4       0.67      0.51      0.58     11583\n",
      "           5       0.79      0.59      0.68      1792\n",
      "           6       0.38      0.38      0.38      1185\n",
      "           7       0.09      0.75      0.16      4869\n",
      "           8       0.74      0.25      0.38     23495\n",
      "           9       0.34      0.31      0.32      1681\n",
      "          10       0.51      0.34      0.41      4628\n",
      "          11       0.63      0.55      0.59      1747\n",
      "          12       0.81      0.35      0.49      1745\n",
      "          13       0.51      0.35      0.41      4646\n",
      "          14       0.61      0.16      0.25     13078\n",
      "\n",
      "    accuracy                           0.38     85300\n",
      "   macro avg       0.56      0.44      0.45     85300\n",
      "weighted avg       0.64      0.38      0.43     85300\n",
      "\n",
      "Accuracy:  0.375158264947245 \n",
      "\n",
      "\n"
     ]
    },
    {
     "name": "stdout",
     "output_type": "stream",
     "text": [
      "\n",
      "For test set\n",
      "\n",
      "Classification Report:                precision    recall  f1-score   support\n",
      "\n",
      "           0       0.43      0.47      0.45      2879\n",
      "           1       0.58      0.42      0.49      1515\n",
      "           2       0.91      0.51      0.66      9085\n",
      "           3       0.40      0.63      0.49      1190\n",
      "           4       0.68      0.52      0.59     11428\n",
      "           5       0.79      0.60      0.68      1784\n",
      "           6       0.39      0.36      0.38      1129\n",
      "           7       0.09      0.75      0.16      4915\n",
      "           8       0.74      0.26      0.38     23580\n",
      "           9       0.34      0.30      0.32      1788\n",
      "          10       0.48      0.33      0.39      4778\n",
      "          11       0.63      0.57      0.60      1722\n",
      "          12       0.79      0.36      0.50      1705\n",
      "          13       0.50      0.34      0.40      4595\n",
      "          14       0.62      0.15      0.25     13207\n",
      "\n",
      "    accuracy                           0.37     85300\n",
      "   macro avg       0.56      0.44      0.45     85300\n",
      "weighted avg       0.64      0.37      0.42     85300\n",
      "\n",
      "Accuracy:  0.3730715123094959 \n",
      "\n",
      "\n"
     ]
    }
   ],
   "source": [
    "import gc\n",
    "\n",
    "X_tr, y_tr = X_train, y_train\n",
    "\n",
    "for _type in [1, 3, 6, -1, 0, 2]:\n",
    "    print('#'*110)\n",
    "    print()\n",
    "    if _type == -1:\n",
    "        print('Without any undersampling/oversampling')\n",
    "    else:\n",
    "        print(f'With sampling type: {_type}')\n",
    "    model = BaggingClassifier(base_estimator=DecisionTreeClassifier(max_depth=15))\n",
    "    X_train, y_train = balance_data(X_tr, y_tr, _type)\n",
    "    model.fit(X_train, y_train)\n",
    "\n",
    "    y_train_pred = model.predict(X_train)\n",
    "    print()\n",
    "    print(\"For training set\")\n",
    "    print()\n",
    "    get_metrics(y_train, y_train_pred)\n",
    "\n",
    "    y_valid_pred = model.predict(X_valid)\n",
    "    print()\n",
    "    print(\"For validation set\")\n",
    "    print()\n",
    "    get_metrics(y_valid, y_valid_pred)\n",
    "\n",
    "    y_test_pred = model.predict(X_test)\n",
    "    print()\n",
    "    print(\"For test set\")\n",
    "    print()\n",
    "    get_metrics(y_test, y_test_pred)"
   ]
  },
  {
   "cell_type": "code",
   "execution_count": null,
   "id": "a32035fa",
   "metadata": {
    "id": "XxJyapqrhB9M",
    "papermill": {
     "duration": 0.016055,
     "end_time": "2021-10-28T19:44:53.636733",
     "exception": false,
     "start_time": "2021-10-28T19:44:53.620678",
     "status": "completed"
    },
    "tags": []
   },
   "outputs": [],
   "source": []
  }
 ],
 "metadata": {
  "colab": {
   "name": "Bagging One vs rest.ipynb",
   "provenance": []
  },
  "kernelspec": {
   "display_name": "Python 3 (ipykernel)",
   "language": "python",
   "name": "python3"
  },
  "language_info": {
   "codemirror_mode": {
    "name": "ipython",
    "version": 3
   },
   "file_extension": ".py",
   "mimetype": "text/x-python",
   "name": "python",
   "nbconvert_exporter": "python",
   "pygments_lexer": "ipython3",
   "version": "3.7.11"
  },
  "papermill": {
   "default_parameters": {},
   "duration": 14229.653317,
   "end_time": "2021-10-28T19:44:56.671211",
   "environment_variables": {},
   "exception": null,
   "input_path": "/home2/tgv2002/mrinal_IRE/IRE-Project-Team-7/Bagging_Decision_Tree.ipynb",
   "output_path": "/home2/tgv2002/mrinal_IRE/outputs/Baggin_decision_out.ipynb",
   "parameters": {},
   "start_time": "2021-10-28T15:47:47.017894",
   "version": "2.3.3"
  }
 },
 "nbformat": 4,
 "nbformat_minor": 5
}