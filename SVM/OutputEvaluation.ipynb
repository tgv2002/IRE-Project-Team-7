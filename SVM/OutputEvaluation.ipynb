{
 "cells": [
  {
   "cell_type": "markdown",
   "id": "ff977fa7",
   "metadata": {
    "tags": [
     "papermill-error-cell-tag"
    ]
   },
   "source": [
    "<span style=\"color:red; font-family:Helvetica Neue, Helvetica, Arial, sans-serif; font-size:2em;\">An Exception was encountered at '<a href=\"#papermill-error-cell\">In [6]</a>'.</span>"
   ]
  },
  {
   "cell_type": "code",
   "execution_count": 1,
   "id": "49066cc2",
   "metadata": {
    "execution": {
     "iopub.execute_input": "2021-11-16T07:01:29.853848Z",
     "iopub.status.busy": "2021-11-16T07:01:29.853401Z",
     "iopub.status.idle": "2021-11-16T07:01:31.144386Z",
     "shell.execute_reply": "2021-11-16T07:01:31.143830Z"
    },
    "papermill": {
     "duration": 1.310598,
     "end_time": "2021-11-16T07:01:31.144512",
     "exception": false,
     "start_time": "2021-11-16T07:01:29.833914",
     "status": "completed"
    },
    "tags": []
   },
   "outputs": [],
   "source": [
    "# Required imports\n",
    "import matplotlib\n",
    "import numpy as np\n",
    "import pandas as pd\n",
    "from sklearn.ensemble import RandomForestClassifier\n",
    "from sklearn.model_selection import train_test_split\n",
    "from sklearn.feature_extraction.text import CountVectorizer\n",
    "from sklearn.feature_extraction.text import TfidfTransformer\n",
    "from sklearn.utils import shuffle\n",
    "from sklearn.metrics import classification_report, accuracy_score\n",
    "import re\n",
    "# from tensorflow.keras.utils import to_categorical\n",
    "from sklearn.preprocessing import LabelEncoder\n",
    "from nltk.corpus import stopwords\n",
    "stop_words = set(stopwords.words('english'))\n",
    "\n",
    "from numpy import loadtxt\n",
    "from xgboost import XGBClassifier\n",
    "import pickle"
   ]
  },
  {
   "cell_type": "code",
   "execution_count": 2,
   "id": "bee15016",
   "metadata": {
    "execution": {
     "iopub.execute_input": "2021-11-16T07:01:31.173003Z",
     "iopub.status.busy": "2021-11-16T07:01:31.172566Z",
     "iopub.status.idle": "2021-11-16T07:01:31.174115Z",
     "shell.execute_reply": "2021-11-16T07:01:31.174465Z"
    },
    "papermill": {
     "duration": 0.017069,
     "end_time": "2021-11-16T07:01:31.174565",
     "exception": false,
     "start_time": "2021-11-16T07:01:31.157496",
     "status": "completed"
    },
    "tags": []
   },
   "outputs": [],
   "source": [
    "# cleaning data\n",
    "def clean_post(post):\n",
    "    post = post.lower()\n",
    "    post = re.sub(r\"\\n\", \" \", post)\n",
    "    post = re.sub(\"[\\<\\[].*?[\\>\\]]\", \" \", post)\n",
    "    post = re.sub(r\"[^a-z ]\", \" \", post)\n",
    "    post = re.sub(r\"\\b\\w{1,3}\\b\", \" \", post)\n",
    "    return \" \".join([x for x in post.split() if x not in stop_words])"
   ]
  },
  {
   "cell_type": "code",
   "execution_count": 3,
   "id": "dc4c9f19",
   "metadata": {
    "execution": {
     "iopub.execute_input": "2021-11-16T07:01:31.206469Z",
     "iopub.status.busy": "2021-11-16T07:01:31.205995Z",
     "iopub.status.idle": "2021-11-16T07:01:31.207065Z",
     "shell.execute_reply": "2021-11-16T07:01:31.207445Z"
    },
    "papermill": {
     "duration": 0.020702,
     "end_time": "2021-11-16T07:01:31.207609",
     "exception": false,
     "start_time": "2021-11-16T07:01:31.186907",
     "status": "completed"
    },
    "tags": []
   },
   "outputs": [],
   "source": [
    "def get_metrics(y_true, y_pred):\n",
    "    result1 = classification_report(y_true, y_pred)\n",
    "    print('Classification Report: ', result1)\n",
    "    result2 = accuracy_score(y_true, y_pred)\n",
    "    print('Accuracy: ', result2, \"\\n\\n\")"
   ]
  },
  {
   "cell_type": "code",
   "execution_count": 4,
   "id": "b3edc916",
   "metadata": {
    "execution": {
     "iopub.execute_input": "2021-11-16T07:01:31.237840Z",
     "iopub.status.busy": "2021-11-16T07:01:31.237377Z",
     "iopub.status.idle": "2021-11-16T07:01:31.238912Z",
     "shell.execute_reply": "2021-11-16T07:01:31.239270Z"
    },
    "papermill": {
     "duration": 0.018949,
     "end_time": "2021-11-16T07:01:31.239368",
     "exception": false,
     "start_time": "2021-11-16T07:01:31.220419",
     "status": "completed"
    },
    "tags": []
   },
   "outputs": [],
   "source": [
    "def evaluate_on_test_data():\n",
    "    # Load data\n",
    "    data = pd.read_csv('/home/starc52/split_reddit_data/test.csv')\n",
    "    data = shuffle(data)\n",
    "\n",
    "    # Class split stats\n",
    "    print(data.groupby(['mental_disorder'])[['mental_disorder']].describe())\n",
    "    x = data['post'].apply(lambda post: clean_post(post))\n",
    "\n",
    "    # Vectorizing text data\n",
    "    count_vect = CountVectorizer()\n",
    "    X_counts = count_vect.fit_transform(x)\n",
    "    tfidf_transformer = TfidfTransformer()\n",
    "    X = tfidf_transformer.fit_transform(X_counts)\n",
    "    \n",
    "    label_encoder = LabelEncoder()\n",
    "    y = label_encoder.fit_transform(np.array(data['mental_disorder']))\n",
    "    \n",
    "    # Evaluating for best version\n",
    "    model = pickle.load(open(\"/home/starc52/models/SVM.pickle.dat\", \"rb\"))\n",
    "    \n",
    "    # Predict on test dataset\n",
    "    pred_test = model.predict(X)\n",
    "    get_metrics(y, pred_test)\n",
    "    print()\n",
    "    print()\n",
    "    print('#'*110)\n",
    "    return np.argmax(pred_test, axis=1)"
   ]
  },
  {
   "cell_type": "code",
   "execution_count": 5,
   "id": "18bb6ce5",
   "metadata": {
    "execution": {
     "iopub.execute_input": "2021-11-16T07:01:31.267928Z",
     "iopub.status.busy": "2021-11-16T07:01:31.267392Z",
     "iopub.status.idle": "2021-11-16T07:01:31.268923Z",
     "shell.execute_reply": "2021-11-16T07:01:31.269285Z"
    },
    "papermill": {
     "duration": 0.017404,
     "end_time": "2021-11-16T07:01:31.269382",
     "exception": false,
     "start_time": "2021-11-16T07:01:31.251978",
     "status": "completed"
    },
    "tags": []
   },
   "outputs": [],
   "source": [
    "def get_text_label(text):\n",
    "    X_test = np.array([clean_post(text),])\n",
    "    \n",
    "    # Vectorizing text data\n",
    "    count_vect = CountVectorizer()\n",
    "    X_counts = count_vect.fit_transform(X_test)\n",
    "    tfidf_transformer = TfidfTransformer()\n",
    "    X_test = tfidf_transformer.fit_transform(X_counts)\n",
    "    \n",
    "    \n",
    "    # Evaluating\n",
    "    model = pickle.load(open(\"/home/starc52/models/SVM.pickle.dat\", \"rb\"))\n",
    "    # cols_when_model_builds = model.get_booster().feature_names\n",
    "    # X_test=X_test[cols_when_model_builds]\n",
    "    pred_test = model.predict(X_test.as_matrix())\n",
    "    return np.argmax(pred_test, axis=1)[0]"
   ]
  },
  {
   "cell_type": "markdown",
   "id": "6111bca2",
   "metadata": {
    "tags": [
     "papermill-error-cell-tag"
    ]
   },
   "source": [
    "<span id=\"papermill-error-cell\" style=\"color:red; font-family:Helvetica Neue, Helvetica, Arial, sans-serif; font-size:2em;\">Execution using papermill encountered an exception here and stopped:</span>"
   ]
  },
  {
   "cell_type": "code",
   "execution_count": 6,
   "id": "eb789626",
   "metadata": {
    "execution": {
     "iopub.execute_input": "2021-11-16T07:01:31.296210Z",
     "iopub.status.busy": "2021-11-16T07:01:31.295763Z",
     "iopub.status.idle": "2021-11-16T07:01:40.826664Z",
     "shell.execute_reply": "2021-11-16T07:01:40.826166Z"
    },
    "papermill": {
     "duration": 9.545416,
     "end_time": "2021-11-16T07:01:40.827056",
     "exception": true,
     "start_time": "2021-11-16T07:01:31.281640",
     "status": "failed"
    },
    "tags": []
   },
   "outputs": [
    {
     "name": "stdout",
     "output_type": "stream",
     "text": [
      "                mental_disorder                             \n",
      "                          count unique            top   freq\n",
      "mental_disorder                                             \n",
      "EDAnonymous                2238      1    EDAnonymous   2238\n",
      "addiction                  1126      1      addiction   1126\n",
      "adhd                       6845      1           adhd   6845\n",
      "alcoholism                  885      1     alcoholism    885\n",
      "anxiety                    8700      1        anxiety   8700\n",
      "autism                     1286      1         autism   1286\n",
      "bipolarreddit               851      1  bipolarreddit    851\n",
      "bpd                        3688      1            bpd   3688\n",
      "depression                17522      1     depression  17522\n",
      "healthanxiety              1275      1  healthanxiety   1275\n",
      "lonely                     3532      1         lonely   3532\n",
      "ptsd                       1307      1           ptsd   1307\n",
      "schizophrenia              1361      1  schizophrenia   1361\n",
      "socialanxiety              3580      1  socialanxiety   3580\n",
      "suicidewatch               9804      1   suicidewatch   9804\n"
     ]
    },
    {
     "ename": "FileNotFoundError",
     "evalue": "[Errno 2] No such file or directory: '/home/starc52/models/SVM.pickle.dat'",
     "output_type": "error",
     "traceback": [
      "\u001b[0;31m---------------------------------------------------------------------------\u001b[0m",
      "\u001b[0;31mFileNotFoundError\u001b[0m                         Traceback (most recent call last)",
      "\u001b[0;32m/tmp/ipykernel_15747/1430076202.py\u001b[0m in \u001b[0;36m<module>\u001b[0;34m\u001b[0m\n\u001b[0;32m----> 1\u001b[0;31m \u001b[0mpred_labels\u001b[0m \u001b[0;34m=\u001b[0m \u001b[0mevaluate_on_test_data\u001b[0m\u001b[0;34m(\u001b[0m\u001b[0;34m)\u001b[0m\u001b[0;34m\u001b[0m\u001b[0;34m\u001b[0m\u001b[0m\n\u001b[0m",
      "\u001b[0;32m/tmp/ipykernel_15747/1645900063.py\u001b[0m in \u001b[0;36mevaluate_on_test_data\u001b[0;34m()\u001b[0m\n\u001b[1;32m     18\u001b[0m \u001b[0;34m\u001b[0m\u001b[0m\n\u001b[1;32m     19\u001b[0m     \u001b[0;31m# Evaluating for best version\u001b[0m\u001b[0;34m\u001b[0m\u001b[0;34m\u001b[0m\u001b[0;34m\u001b[0m\u001b[0m\n\u001b[0;32m---> 20\u001b[0;31m     \u001b[0mmodel\u001b[0m \u001b[0;34m=\u001b[0m \u001b[0mpickle\u001b[0m\u001b[0;34m.\u001b[0m\u001b[0mload\u001b[0m\u001b[0;34m(\u001b[0m\u001b[0mopen\u001b[0m\u001b[0;34m(\u001b[0m\u001b[0;34m\"/home/starc52/models/SVM.pickle.dat\"\u001b[0m\u001b[0;34m,\u001b[0m \u001b[0;34m\"rb\"\u001b[0m\u001b[0;34m)\u001b[0m\u001b[0;34m)\u001b[0m\u001b[0;34m\u001b[0m\u001b[0;34m\u001b[0m\u001b[0m\n\u001b[0m\u001b[1;32m     21\u001b[0m \u001b[0;34m\u001b[0m\u001b[0m\n\u001b[1;32m     22\u001b[0m     \u001b[0;31m# Predict on test dataset\u001b[0m\u001b[0;34m\u001b[0m\u001b[0;34m\u001b[0m\u001b[0;34m\u001b[0m\u001b[0m\n",
      "\u001b[0;31mFileNotFoundError\u001b[0m: [Errno 2] No such file or directory: '/home/starc52/models/SVM.pickle.dat'"
     ]
    }
   ],
   "source": [
    "pred_labels = evaluate_on_test_data()"
   ]
  }
 ],
 "metadata": {
  "kernelspec": {
   "display_name": "Python 3",
   "language": "python",
   "name": "python3"
  },
  "language_info": {
   "codemirror_mode": {
    "name": "ipython",
    "version": 3
   },
   "file_extension": ".py",
   "mimetype": "text/x-python",
   "name": "python",
   "nbconvert_exporter": "python",
   "pygments_lexer": "ipython3",
   "version": "3.8.12"
  },
  "papermill": {
   "default_parameters": {},
   "duration": 13.051203,
   "end_time": "2021-11-16T07:01:41.147384",
   "environment_variables": {},
   "exception": true,
   "input_path": "/home/starc52/IRE-Project-Team-7/SVM/Evaluation.ipynb",
   "output_path": "/home/starc52/IRE-Project-Team-7/SVM/OutputEvaluation.ipynb",
   "parameters": {},
   "start_time": "2021-11-16T07:01:28.096181",
   "version": "2.3.3"
  }
 },
 "nbformat": 4,
 "nbformat_minor": 5
}