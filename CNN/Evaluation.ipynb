{
 "cells": [
  {
   "cell_type": "code",
   "execution_count": 1,
   "id": "equal-taylor",
   "metadata": {
    "execution": {
     "iopub.execute_input": "2021-11-06T01:30:23.535312Z",
     "iopub.status.busy": "2021-11-06T01:30:23.534817Z",
     "iopub.status.idle": "2021-11-06T01:30:44.169849Z",
     "shell.execute_reply": "2021-11-06T01:30:44.170286Z"
    },
    "papermill": {
     "duration": 20.652663,
     "end_time": "2021-11-06T01:30:44.170521",
     "exception": false,
     "start_time": "2021-11-06T01:30:23.517858",
     "status": "completed"
    },
    "tags": []
   },
   "outputs": [],
   "source": [
    "# Required imports\n",
    "import pandas as pd\n",
    "import numpy as np\n",
    "import matplotlib.pyplot as plt\n",
    "%matplotlib inline\n",
    "import re\n",
    "import pickle\n",
    "from sklearn.utils import shuffle\n",
    "from sklearn.preprocessing import LabelEncoder\n",
    "from sklearn.metrics import classification_report, accuracy_score\n",
    "from nltk.corpus import stopwords\n",
    "from imblearn.over_sampling import SMOTE\n",
    "from collections import Counter\n",
    "\n",
    "stop_words = set(stopwords.words('english'))\n",
    "\n",
    "from keras.preprocessing.text import Tokenizer\n",
    "from keras.preprocessing.sequence import pad_sequences\n",
    "from tensorflow.keras.utils import to_categorical\n",
    "from keras.layers import Embedding\n",
    "from keras.layers import Dense, Input, GlobalMaxPooling1D, GlobalAveragePooling2D\n",
    "from keras.layers import Conv1D, MaxPooling1D, Embedding\n",
    "from keras.models import Model\n",
    "from keras.layers import Input, Dense, Embedding, Conv2D, MaxPooling2D, Dropout,concatenate\n",
    "from keras.layers.core import Reshape, Flatten\n",
    "from keras.callbacks import EarlyStopping\n",
    "from tensorflow.keras.optimizers import SGD, RMSprop, Adagrad, Adadelta, Adam, Adamax, Nadam\n",
    "from keras.models import Model, load_model\n",
    "from keras import regularizers\n",
    "\n",
    "import gensim\n",
    "from gensim.models import Word2Vec\n",
    "from gensim.utils import simple_preprocess\n",
    "from gensim.models.keyedvectors import KeyedVectors"
   ]
  },
  {
   "cell_type": "code",
   "execution_count": 2,
   "id": "artificial-phenomenon",
   "metadata": {
    "execution": {
     "iopub.execute_input": "2021-11-06T01:30:44.185322Z",
     "iopub.status.busy": "2021-11-06T01:30:44.184767Z",
     "iopub.status.idle": "2021-11-06T01:30:44.186511Z",
     "shell.execute_reply": "2021-11-06T01:30:44.186903Z"
    },
    "papermill": {
     "duration": 0.010742,
     "end_time": "2021-11-06T01:30:44.187011",
     "exception": false,
     "start_time": "2021-11-06T01:30:44.176269",
     "status": "completed"
    },
    "tags": []
   },
   "outputs": [],
   "source": [
    "# cleaning data\n",
    "def clean_post(post):\n",
    "    post = post.lower()\n",
    "    post = re.sub(r\"\\n\", \" \", post)\n",
    "    post = re.sub(\"[\\<\\[].*?[\\>\\]]\", \" \", post)\n",
    "    post = re.sub(r\"[^a-z ]\", \" \", post)\n",
    "    post = re.sub(r\"\\b\\w{1,3}\\b\", \" \", post)\n",
    "    return \" \".join([x for x in post.split() if x not in stop_words])"
   ]
  },
  {
   "cell_type": "code",
   "execution_count": 3,
   "id": "98a2d43e",
   "metadata": {
    "execution": {
     "iopub.execute_input": "2021-11-06T01:30:44.199899Z",
     "iopub.status.busy": "2021-11-06T01:30:44.199417Z",
     "iopub.status.idle": "2021-11-06T01:30:44.201020Z",
     "shell.execute_reply": "2021-11-06T01:30:44.201417Z"
    },
    "papermill": {
     "duration": 0.009854,
     "end_time": "2021-11-06T01:30:44.201527",
     "exception": false,
     "start_time": "2021-11-06T01:30:44.191673",
     "status": "completed"
    },
    "tags": []
   },
   "outputs": [],
   "source": [
    "def get_metrics(ytrue, ypred):\n",
    "    y_true = np.argmax(ytrue, axis=1)\n",
    "    y_pred = np.argmax(ypred, axis=1)\n",
    "    result1 = classification_report(y_true, y_pred)\n",
    "    print('Classification Report: ', result1)\n",
    "    result2 = accuracy_score(y_true, y_pred)\n",
    "    print('Accuracy: ', result2, \"\\n\\n\")"
   ]
  },
  {
   "cell_type": "code",
   "execution_count": 4,
   "id": "daily-office",
   "metadata": {
    "execution": {
     "iopub.execute_input": "2021-11-06T01:30:44.217922Z",
     "iopub.status.busy": "2021-11-06T01:30:44.212972Z",
     "iopub.status.idle": "2021-11-06T01:30:44.219434Z",
     "shell.execute_reply": "2021-11-06T01:30:44.219806Z"
    },
    "papermill": {
     "duration": 0.013562,
     "end_time": "2021-11-06T01:30:44.219917",
     "exception": false,
     "start_time": "2021-11-06T01:30:44.206355",
     "status": "completed"
    },
    "tags": []
   },
   "outputs": [],
   "source": [
    "def evaluate_on_test_data():\n",
    "    # Load data\n",
    "    data = pd.read_csv('../split_data/test.csv')\n",
    "    data = shuffle(data)\n",
    "\n",
    "    # Class split stats\n",
    "    print(data.groupby(['mental_disorder'])[['mental_disorder']].describe())\n",
    "    X_test = data['post'].apply(lambda post: clean_post(post))\n",
    "    label_encoder = LabelEncoder()\n",
    "    y1 = label_encoder.fit_transform(np.array(data['mental_disorder']))\n",
    "    y_test = to_categorical(y1)\n",
    "    \n",
    "    # Load tokenizer\n",
    "    with open('../models/tokenizer.pkl', 'rb') as f:\n",
    "        tokenizer = pickle.load(f)\n",
    "\n",
    "    # Convert  texts to sequence of integers\n",
    "    sequences_test = tokenizer.texts_to_sequences(X_test)\n",
    "\n",
    "    # Limit size of test sequences to 200 and pad the sequence\n",
    "    X_test = pad_sequences(sequences_test, maxlen=200)\n",
    "    print(f'Shape of X test tensor: {X_test.shape}')\n",
    "\n",
    "    # Convert target to array\n",
    "    y_test = np.asarray(y_test)\n",
    "    print(f'Shape of y test tensor: {y_test.shape}')\n",
    "    \n",
    "    # Evaluating\n",
    "    for _type in [1, 3, 5, 6, -1, 0, 2]:\n",
    "        model = load_model(f'../models/CNN_model_{_type}')\n",
    "        print('#'*110)\n",
    "        print()\n",
    "        if _type == -1:\n",
    "            print('Without any oversampling/undersampling')\n",
    "        else:\n",
    "            print(f'With sampling type: {_type}')\n",
    "        print()\n",
    "        print()\n",
    "        # Predict on test dataset\n",
    "        pred_test = model.predict(X_test)\n",
    "        get_metrics(y_test, pred_test)\n",
    "        print()\n",
    "        print()\n",
    "        print('#'*110)"
   ]
  },
  {
   "cell_type": "code",
   "execution_count": 5,
   "id": "68815199",
   "metadata": {
    "execution": {
     "iopub.execute_input": "2021-11-06T01:30:44.235126Z",
     "iopub.status.busy": "2021-11-06T01:30:44.234626Z",
     "iopub.status.idle": "2021-11-06T01:30:44.236263Z",
     "shell.execute_reply": "2021-11-06T01:30:44.236668Z"
    },
    "papermill": {
     "duration": 0.011723,
     "end_time": "2021-11-06T01:30:44.236780",
     "exception": false,
     "start_time": "2021-11-06T01:30:44.225057",
     "status": "completed"
    },
    "tags": []
   },
   "outputs": [],
   "source": [
    "def get_text_label(text):\n",
    "    X_test = np.array([clean_post(text),])\n",
    "    \n",
    "    # Load tokenizer\n",
    "    with open('../models/tokenizer.pkl', 'rb') as f:\n",
    "        tokenizer = pickle.load(f)\n",
    "\n",
    "    # Convert  texts to sequence of integers\n",
    "    sequences_test = tokenizer.texts_to_sequences(X_test)\n",
    "\n",
    "    # Limit size of test sequences to 200 and pad the sequence\n",
    "    X_test = pad_sequences(sequences_test, maxlen=200)\n",
    "    \n",
    "    # Evaluating\n",
    "    model = load_model(f'../models/CNN_model_6')\n",
    "    pred_test = model.predict(X_test)\n",
    "    return np.argmax(pred_test, axis=1)[0]"
   ]
  },
  {
   "cell_type": "code",
   "execution_count": 6,
   "id": "eecb2574",
   "metadata": {
    "execution": {
     "iopub.execute_input": "2021-11-06T01:30:44.250900Z",
     "iopub.status.busy": "2021-11-06T01:30:44.250359Z",
     "iopub.status.idle": "2021-11-06T01:33:15.861536Z",
     "shell.execute_reply": "2021-11-06T01:33:15.861946Z"
    },
    "papermill": {
     "duration": 151.619858,
     "end_time": "2021-11-06T01:33:15.862129",
     "exception": false,
     "start_time": "2021-11-06T01:30:44.242271",
     "status": "completed"
    },
    "tags": []
   },
   "outputs": [
    {
     "name": "stdout",
     "output_type": "stream",
     "text": [
      "                mental_disorder                             \n",
      "                          count unique            top   freq\n",
      "mental_disorder                                             \n",
      "EDAnonymous                2238      1    EDAnonymous   2238\n",
      "addiction                  1126      1      addiction   1126\n",
      "adhd                       6845      1           adhd   6845\n",
      "alcoholism                  885      1     alcoholism    885\n",
      "anxiety                    8700      1        anxiety   8700\n",
      "autism                     1286      1         autism   1286\n",
      "bipolarreddit               851      1  bipolarreddit    851\n",
      "bpd                        3688      1            bpd   3688\n",
      "depression                17522      1     depression  17522\n",
      "healthanxiety              1275      1  healthanxiety   1275\n",
      "lonely                     3532      1         lonely   3532\n",
      "ptsd                       1307      1           ptsd   1307\n",
      "schizophrenia              1361      1  schizophrenia   1361\n",
      "socialanxiety              3580      1  socialanxiety   3580\n",
      "suicidewatch               9804      1   suicidewatch   9804\n"
     ]
    },
    {
     "name": "stdout",
     "output_type": "stream",
     "text": [
      "Shape of X test tensor: (64000, 200)\n",
      "Shape of y test tensor: (64000, 15)\n"
     ]
    },
    {
     "name": "stderr",
     "output_type": "stream",
     "text": [
      "2021-11-06 07:00:56.425039: W tensorflow/stream_executor/platform/default/dso_loader.cc:64] Could not load dynamic library 'libcusolver.so.11'; dlerror: libcusolver.so.11: cannot open shared object file: No such file or directory\n",
      "2021-11-06 07:00:56.772561: W tensorflow/stream_executor/platform/default/dso_loader.cc:64] Could not load dynamic library 'libcudnn.so.8'; dlerror: libcudnn.so.8: cannot open shared object file: No such file or directory\n",
      "2021-11-06 07:00:56.772604: W tensorflow/core/common_runtime/gpu/gpu_device.cc:1835] Cannot dlopen some GPU libraries. Please make sure the missing libraries mentioned above are installed properly if you would like to use GPU. Follow the guide at https://www.tensorflow.org/install/gpu for how to download and setup the required libraries for your platform.\n",
      "Skipping registering GPU devices...\n",
      "2021-11-06 07:00:56.774004: I tensorflow/core/platform/cpu_feature_guard.cc:142] This TensorFlow binary is optimized with oneAPI Deep Neural Network Library (oneDNN) to use the following CPU instructions in performance-critical operations:  AVX2 FMA\n",
      "To enable them in other operations, rebuild TensorFlow with the appropriate compiler flags.\n"
     ]
    },
    {
     "name": "stdout",
     "output_type": "stream",
     "text": [
      "##############################################################################################################\n",
      "\n",
      "With sampling type: 1\n",
      "\n",
      "\n"
     ]
    },
    {
     "name": "stderr",
     "output_type": "stream",
     "text": [
      "2021-11-06 07:00:58.549489: I tensorflow/compiler/mlir/mlir_graph_optimization_pass.cc:185] None of the MLIR Optimization Passes are enabled (registered 2)\n"
     ]
    },
    {
     "name": "stdout",
     "output_type": "stream",
     "text": [
      "Classification Report:                precision    recall  f1-score   support\n",
      "\n",
      "           0       0.66      0.87      0.75      2238\n",
      "           1       0.53      0.83      0.65      1126\n",
      "           2       0.86      0.80      0.83      6845\n",
      "           3       0.60      0.83      0.69       885\n",
      "           4       0.70      0.65      0.68      8700\n",
      "           5       0.55      0.81      0.66      1286\n",
      "           6       0.29      0.75      0.41       851\n",
      "           7       0.44      0.50      0.47      3688\n",
      "           8       0.69      0.49      0.57     17522\n",
      "           9       0.52      0.77      0.62      1275\n",
      "          10       0.52      0.59      0.55      3532\n",
      "          11       0.55      0.76      0.64      1307\n",
      "          12       0.64      0.71      0.67      1361\n",
      "          13       0.51      0.66      0.58      3580\n",
      "          14       0.60      0.55      0.57      9804\n",
      "\n",
      "    accuracy                           0.62     64000\n",
      "   macro avg       0.58      0.70      0.62     64000\n",
      "weighted avg       0.64      0.62      0.62     64000\n",
      "\n",
      "Accuracy:  0.619671875 \n",
      "\n",
      "\n",
      "\n",
      "\n",
      "##############################################################################################################\n"
     ]
    },
    {
     "name": "stdout",
     "output_type": "stream",
     "text": [
      "##############################################################################################################\n",
      "\n",
      "With sampling type: 3\n",
      "\n",
      "\n"
     ]
    },
    {
     "name": "stdout",
     "output_type": "stream",
     "text": [
      "Classification Report:                precision    recall  f1-score   support\n",
      "\n",
      "           0       0.56      0.84      0.67      2238\n",
      "           1       0.27      0.86      0.41      1126\n",
      "           2       0.84      0.57      0.68      6845\n",
      "           3       0.39      0.85      0.53       885\n",
      "           4       0.63      0.21      0.32      8700\n",
      "           5       0.19      0.87      0.31      1286\n",
      "           6       0.10      0.76      0.17       851\n",
      "           7       0.20      0.37      0.26      3688\n",
      "           8       0.71      0.05      0.09     17522\n",
      "           9       0.22      0.88      0.35      1275\n",
      "          10       0.42      0.36      0.39      3532\n",
      "          11       0.14      0.86      0.24      1307\n",
      "          12       0.30      0.78      0.43      1361\n",
      "          13       0.40      0.57      0.47      3580\n",
      "          14       0.61      0.14      0.23      9804\n",
      "\n",
      "    accuracy                           0.33     64000\n",
      "   macro avg       0.40      0.60      0.37     64000\n",
      "weighted avg       0.57      0.33      0.30     64000\n",
      "\n",
      "Accuracy:  0.332265625 \n",
      "\n",
      "\n",
      "\n",
      "\n",
      "##############################################################################################################\n"
     ]
    },
    {
     "name": "stdout",
     "output_type": "stream",
     "text": [
      "##############################################################################################################\n",
      "\n",
      "With sampling type: 5\n",
      "\n",
      "\n"
     ]
    },
    {
     "name": "stdout",
     "output_type": "stream",
     "text": [
      "Classification Report:                precision    recall  f1-score   support\n",
      "\n",
      "           0       0.58      0.85      0.69      2238\n",
      "           1       0.35      0.82      0.49      1126\n",
      "           2       0.89      0.66      0.76      6845\n",
      "           3       0.33      0.90      0.48       885\n",
      "           4       0.73      0.25      0.38      8700\n",
      "           5       0.32      0.83      0.46      1286\n",
      "           6       0.10      0.74      0.17       851\n",
      "           7       0.49      0.42      0.45      3688\n",
      "           8       0.73      0.09      0.16     17522\n",
      "           9       0.28      0.85      0.42      1275\n",
      "          10       0.25      0.75      0.38      3532\n",
      "          11       0.38      0.81      0.52      1307\n",
      "          12       0.31      0.77      0.44      1361\n",
      "          13       0.46      0.62      0.53      3580\n",
      "          14       0.54      0.40      0.46      9804\n",
      "\n",
      "    accuracy                           0.42     64000\n",
      "   macro avg       0.45      0.65      0.45     64000\n",
      "weighted avg       0.61      0.42      0.40     64000\n",
      "\n",
      "Accuracy:  0.423453125 \n",
      "\n",
      "\n",
      "\n",
      "\n",
      "##############################################################################################################\n"
     ]
    },
    {
     "name": "stdout",
     "output_type": "stream",
     "text": [
      "##############################################################################################################\n",
      "\n",
      "With sampling type: 6\n",
      "\n",
      "\n"
     ]
    },
    {
     "name": "stdout",
     "output_type": "stream",
     "text": [
      "Classification Report:                precision    recall  f1-score   support\n",
      "\n",
      "           0       0.81      0.86      0.83      2238\n",
      "           1       0.77      0.72      0.75      1126\n",
      "           2       0.91      0.80      0.85      6845\n",
      "           3       0.82      0.70      0.76       885\n",
      "           4       0.71      0.73      0.72      8700\n",
      "           5       0.75      0.78      0.77      1286\n",
      "           6       0.57      0.58      0.58       851\n",
      "           7       0.64      0.46      0.54      3688\n",
      "           8       0.60      0.72      0.66     17522\n",
      "           9       0.70      0.64      0.67      1275\n",
      "          10       0.60      0.49      0.54      3532\n",
      "          11       0.70      0.71      0.70      1307\n",
      "          12       0.68      0.73      0.70      1361\n",
      "          13       0.64      0.55      0.59      3580\n",
      "          14       0.63      0.58      0.61      9804\n",
      "\n",
      "    accuracy                           0.68     64000\n",
      "   macro avg       0.70      0.67      0.68     64000\n",
      "weighted avg       0.68      0.68      0.67     64000\n",
      "\n",
      "Accuracy:  0.675171875 \n",
      "\n",
      "\n",
      "\n",
      "\n",
      "##############################################################################################################\n"
     ]
    },
    {
     "name": "stdout",
     "output_type": "stream",
     "text": [
      "##############################################################################################################\n",
      "\n",
      "Without any oversampling/undersampling\n",
      "\n",
      "\n"
     ]
    },
    {
     "name": "stdout",
     "output_type": "stream",
     "text": [
      "Classification Report:                precision    recall  f1-score   support\n",
      "\n",
      "           0       0.86      0.79      0.82      2238\n",
      "           1       0.80      0.68      0.74      1126\n",
      "           2       0.84      0.86      0.85      6845\n",
      "           3       0.74      0.79      0.76       885\n",
      "           4       0.62      0.78      0.69      8700\n",
      "           5       0.84      0.69      0.76      1286\n",
      "           6       0.65      0.51      0.57       851\n",
      "           7       0.54      0.53      0.54      3688\n",
      "           8       0.60      0.70      0.65     17522\n",
      "           9       0.67      0.60      0.63      1275\n",
      "          10       0.59      0.51      0.55      3532\n",
      "          11       0.77      0.62      0.69      1307\n",
      "          12       0.74      0.70      0.72      1361\n",
      "          13       0.66      0.41      0.51      3580\n",
      "          14       0.65      0.50      0.56      9804\n",
      "\n",
      "    accuracy                           0.66     64000\n",
      "   macro avg       0.71      0.65      0.67     64000\n",
      "weighted avg       0.67      0.66      0.66     64000\n",
      "\n",
      "Accuracy:  0.66071875 \n",
      "\n",
      "\n",
      "\n",
      "\n",
      "##############################################################################################################\n"
     ]
    },
    {
     "name": "stdout",
     "output_type": "stream",
     "text": [
      "##############################################################################################################\n",
      "\n",
      "With sampling type: 0\n",
      "\n",
      "\n"
     ]
    },
    {
     "name": "stdout",
     "output_type": "stream",
     "text": [
      "Classification Report:                precision    recall  f1-score   support\n",
      "\n",
      "           0       0.81      0.78      0.79      2238\n",
      "           1       0.62      0.74      0.68      1126\n",
      "           2       0.85      0.81      0.83      6845\n",
      "           3       0.69      0.77      0.73       885\n",
      "           4       0.67      0.66      0.67      8700\n",
      "           5       0.68      0.76      0.72      1286\n",
      "           6       0.43      0.56      0.49       851\n",
      "           7       0.48      0.51      0.49      3688\n",
      "           8       0.65      0.53      0.59     17522\n",
      "           9       0.57      0.67      0.62      1275\n",
      "          10       0.51      0.53      0.52      3532\n",
      "          11       0.69      0.62      0.65      1307\n",
      "          12       0.62      0.71      0.66      1361\n",
      "          13       0.50      0.62      0.55      3580\n",
      "          14       0.56      0.63      0.60      9804\n",
      "\n",
      "    accuracy                           0.63     64000\n",
      "   macro avg       0.62      0.66      0.64     64000\n",
      "weighted avg       0.64      0.63      0.63     64000\n",
      "\n",
      "Accuracy:  0.628640625 \n",
      "\n",
      "\n",
      "\n",
      "\n",
      "##############################################################################################################\n"
     ]
    },
    {
     "name": "stdout",
     "output_type": "stream",
     "text": [
      "##############################################################################################################\n",
      "\n",
      "With sampling type: 2\n",
      "\n",
      "\n"
     ]
    },
    {
     "name": "stdout",
     "output_type": "stream",
     "text": [
      "Classification Report:                precision    recall  f1-score   support\n",
      "\n",
      "           0       0.61      0.81      0.70      2238\n",
      "           1       0.66      0.66      0.66      1126\n",
      "           2       0.84      0.78      0.81      6845\n",
      "           3       0.68      0.64      0.66       885\n",
      "           4       0.73      0.60      0.66      8700\n",
      "           5       0.65      0.62      0.64      1286\n",
      "           6       0.60      0.42      0.49       851\n",
      "           7       0.62      0.34      0.44      3688\n",
      "           8       0.59      0.64      0.61     17522\n",
      "           9       0.55      0.59      0.57      1275\n",
      "          10       0.41      0.50      0.45      3532\n",
      "          11       0.67      0.56      0.61      1307\n",
      "          12       0.64      0.63      0.64      1361\n",
      "          13       0.54      0.59      0.56      3580\n",
      "          14       0.53      0.59      0.56      9804\n",
      "\n",
      "    accuracy                           0.61     64000\n",
      "   macro avg       0.62      0.60      0.60     64000\n",
      "weighted avg       0.62      0.61      0.61     64000\n",
      "\n",
      "Accuracy:  0.6121875 \n",
      "\n",
      "\n",
      "\n",
      "\n",
      "##############################################################################################################\n"
     ]
    }
   ],
   "source": [
    "evaluate_on_test_data()"
   ]
  }
 ],
 "metadata": {
  "kernelspec": {
   "display_name": "Python 3 (ipykernel)",
   "language": "python",
   "name": "python3"
  },
  "language_info": {
   "codemirror_mode": {
    "name": "ipython",
    "version": 3
   },
   "file_extension": ".py",
   "mimetype": "text/x-python",
   "name": "python",
   "nbconvert_exporter": "python",
   "pygments_lexer": "ipython3",
   "version": "3.7.11"
  },
  "papermill": {
   "default_parameters": {},
   "duration": 179.116246,
   "end_time": "2021-11-06T01:33:19.222272",
   "environment_variables": {},
   "exception": null,
   "input_path": "Evaluation.ipynb",
   "output_path": "Evaluation_output.ipynb",
   "parameters": {},
   "start_time": "2021-11-06T01:30:20.106026",
   "version": "2.3.3"
  }
 },
 "nbformat": 4,
 "nbformat_minor": 5
}