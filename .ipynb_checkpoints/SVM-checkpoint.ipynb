{
 "cells": [
  {
   "cell_type": "code",
   "execution_count": 1,
   "id": "f9f0bcfd",
   "metadata": {},
   "outputs": [],
   "source": [
    "# Required imports\n",
    "import matplotlib\n",
    "import numpy as np\n",
    "import pandas as pd\n",
    "from sklearn.ensemble import RandomForestClassifier\n",
    "from sklearn.model_selection import train_test_split\n",
    "from sklearn.feature_extraction.text import CountVectorizer\n",
    "from sklearn.feature_extraction.text import TfidfTransformer\n",
    "from sklearn.utils import shuffle\n",
    "from sklearn.metrics import classification_report, accuracy_score\n",
    "import re\n",
    "from tensorflow.keras.utils import to_categorical\n",
    "from sklearn.preprocessing import LabelEncoder\n",
    "from nltk.corpus import stopwords\n",
    "stop_words = set(stopwords.words('english'))\n",
    "from sklearn import model_selection, naive_bayes, svm"
   ]
  },
  {
   "cell_type": "code",
   "execution_count": 2,
   "id": "f3fb3d18",
   "metadata": {},
   "outputs": [],
   "source": [
    "# cleaning data\n",
    "def clean_post(post):\n",
    "    post = post.lower()\n",
    "    post = re.sub(r\"\\n\", \" \", post)\n",
    "    post = re.sub(\"[\\<\\[].*?[\\>\\]]\", \" \", post)\n",
    "    post = re.sub(r\"[^a-z ]\", \" \", post)\n",
    "    post = re.sub(r\"\\b\\w{1,3}\\b\", \" \", post)\n",
    "    return \" \".join([x for x in post.split() if x not in stop_words])"
   ]
  },
  {
   "cell_type": "code",
   "execution_count": 3,
   "id": "9d194eb9",
   "metadata": {},
   "outputs": [],
   "source": [
    "# Different techniques for tackling class imbalance\n",
    "from imblearn.under_sampling import RandomUnderSampler, TomekLinks, NearMiss, ClusterCentroids\n",
    "from imblearn.over_sampling import RandomOverSampler, SMOTE\n",
    "from imblearn.combine import SMOTETomek\n",
    "\n",
    "def balance_data(x, y, _type):\n",
    "    if _type == 0:\n",
    "        ros = RandomOverSampler(random_state=42)\n",
    "        return ros.fit_resample(x, y)\n",
    "    elif _type == 1:\n",
    "        rus = RandomUnderSampler(random_state=42, replacement=True)\n",
    "        return rus.fit_resample(x, y)\n",
    "    elif _type == 2:\n",
    "        smote = SMOTE()\n",
    "        return smote.fit_resample(x, y)\n",
    "    elif _type == 3:\n",
    "        nm = NearMiss()\n",
    "        return nm.fit_resample(x, y)\n",
    "    elif _type == 4:\n",
    "        smt = SMOTETomek(ratio='auto')\n",
    "        return smt.fit_resample(x, y)\n",
    "    elif _type == 5:\n",
    "        cc = ClusterCentroids()\n",
    "        return cc.fit_resample(x, y)\n",
    "    elif _type == 6:\n",
    "        tl = TomekLinks()\n",
    "        return tl.fit_resample(x, y)\n",
    "    # default\n",
    "    smote = SMOTE()\n",
    "    return smote.fit_resample(x, y)\n",
    "    # Another technique is penalizing the algo with class_weight=balanced, using stratified cross validation"
   ]
  },
  {
   "cell_type": "code",
   "execution_count": 4,
   "id": "2baa2b63",
   "metadata": {},
   "outputs": [
    {
     "name": "stdout",
     "output_type": "stream",
     "text": [
      "                mental_disorder                              \n",
      "                          count unique            top    freq\n",
      "mental_disorder                                              \n",
      "EDAnonymous               14577      1    EDAnonymous   14577\n",
      "addiction                  7641      1      addiction    7641\n",
      "adhd                      45631      1           adhd   45631\n",
      "alcoholism                 5911      1     alcoholism    5911\n",
      "anxiety                   57671      1        anxiety   57671\n",
      "autism                     8869      1         autism    8869\n",
      "bipolarreddit              5780      1  bipolarreddit    5780\n",
      "bpd                       24294      1            bpd   24294\n",
      "depression               117331      1     depression  117331\n",
      "healthanxiety              8648      1  healthanxiety    8648\n",
      "lonely                    23635      1         lonely   23635\n",
      "ptsd                       8643      1           ptsd    8643\n",
      "schizophrenia              8712      1  schizophrenia    8712\n",
      "socialanxiety             22996      1  socialanxiety   22996\n",
      "suicidewatch              66161      1   suicidewatch   66161\n"
     ]
    }
   ],
   "source": [
    "# Load data\n",
    "data = pd.read_csv('../reddit_mental_health_dataset/reddit_dataset.csv')\n",
    "data = shuffle(data)\n",
    "\n",
    "# Class split stats\n",
    "print(data.groupby(['mental_disorder'])[['mental_disorder']].describe())\n",
    "x = data['post'].apply(lambda post: clean_post(post))\n",
    "\n",
    "# Vectorizing text data\n",
    "count_vect = CountVectorizer()\n",
    "X_counts = count_vect.fit_transform(x)\n",
    "tfidf_transformer = TfidfTransformer()\n",
    "X = tfidf_transformer.fit_transform(X_counts)"
   ]
  },
  {
   "cell_type": "code",
   "execution_count": 5,
   "id": "8fa2d2e4",
   "metadata": {},
   "outputs": [],
   "source": [
    "label_encoder = LabelEncoder()\n",
    "y = label_encoder.fit_transform(np.array(data['mental_disorder']))\n",
    "# y = to_categorical(y1)\n",
    "\n",
    "# 60-20-20 split\n",
    "X_train, X_test, y_train, y_test = train_test_split(X, y, test_size=0.4, random_state=321)\n",
    "X_test, X_valid, y_test, y_valid = train_test_split(X_test, y_test, test_size=0.5, random_state=321)"
   ]
  },
  {
   "cell_type": "code",
   "execution_count": 6,
   "id": "6dc672b3",
   "metadata": {},
   "outputs": [],
   "source": [
    "def get_metrics(y_true, y_pred):\n",
    "    result1 = classification_report(y_true, y_pred)\n",
    "    print('Classification Report: ', result1)\n",
    "    result2 = accuracy_score(y_true, y_pred)\n",
    "    print('Accuracy: ', result2, \"\\n\\n\")"
   ]
  },
  {
   "cell_type": "code",
   "execution_count": null,
   "id": "a0fd55e8",
   "metadata": {},
   "outputs": [],
   "source": [
    "# Creating the model\n",
    "model = svm.SVC(C=1.0, kernel='linear', degree=3, gamma='auto')\n",
    "model.fit(X_train, y_train)\n",
    "\n",
    "# Predict on training\n",
    "y_train_pred = model.predict(X_train)"
   ]
  },
  {
   "cell_type": "code",
   "execution_count": null,
   "id": "12e3c6b9",
   "metadata": {},
   "outputs": [],
   "source": [
    "get_metrics(y_train, y_train_pred)\n",
    "\n",
    "# Use model on validation set\n",
    "y_valid_pred = model.predict(X_valid)\n",
    "get_metrics(y_valid, y_valid_pred)\n",
    "\n",
    "# Use model on test set\n",
    "y_test_pred = model.predict(X_test)\n",
    "get_metrics(y_test, y_test_pred)"
   ]
  },
  {
   "cell_type": "code",
   "execution_count": null,
   "id": "c293a418",
   "metadata": {},
   "outputs": [],
   "source": [
    "# Creating the model\n",
    "model = svm.SVC(C=1.0, kernel='rbf', degree=3, gamma='auto')\n",
    "model.fit(X_train, y_train)\n",
    "\n",
    "# Predict on training\n",
    "y_train_pred = model.predict(X_train)"
   ]
  },
  {
   "cell_type": "code",
   "execution_count": null,
   "id": "925621d2",
   "metadata": {},
   "outputs": [],
   "source": [
    "get_metrics(y_train, y_train_pred)\n",
    "\n",
    "# Use model on validation set\n",
    "y_valid_pred = model.predict(X_valid)\n",
    "get_metrics(y_valid, y_valid_pred)\n",
    "\n",
    "# Use model on test set\n",
    "y_test_pred = model.predict(X_test)\n",
    "get_metrics(y_test, y_test_pred)"
   ]
  }
 ],
 "metadata": {
  "kernelspec": {
   "display_name": "Python 3 (ipykernel)",
   "language": "python",
   "name": "python3"
  },
  "language_info": {
   "codemirror_mode": {
    "name": "ipython",
    "version": 3
   },
   "file_extension": ".py",
   "mimetype": "text/x-python",
   "name": "python",
   "nbconvert_exporter": "python",
   "pygments_lexer": "ipython3",
   "version": "3.8.11"
  }
 },
 "nbformat": 4,
 "nbformat_minor": 5
}
