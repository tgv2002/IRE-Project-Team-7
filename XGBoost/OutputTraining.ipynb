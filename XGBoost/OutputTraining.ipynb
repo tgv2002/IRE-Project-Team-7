{
 "cells": [
  {
   "cell_type": "markdown",
   "id": "1eb3407f",
   "metadata": {
    "tags": [
     "papermill-error-cell-tag"
    ]
   },
   "source": [
    "<span style=\"color:red; font-family:Helvetica Neue, Helvetica, Arial, sans-serif; font-size:2em;\">An Exception was encountered at '<a href=\"#papermill-error-cell\">In [7]</a>'.</span>"
   ]
  },
  {
   "cell_type": "code",
   "execution_count": 1,
   "id": "5aa30987",
   "metadata": {
    "execution": {
     "iopub.execute_input": "2021-11-16T04:16:36.618112Z",
     "iopub.status.busy": "2021-11-16T04:16:36.617646Z",
     "iopub.status.idle": "2021-11-16T04:16:45.264596Z",
     "shell.execute_reply": "2021-11-16T04:16:45.264117Z"
    },
    "papermill": {
     "duration": 8.667283,
     "end_time": "2021-11-16T04:16:45.264719",
     "exception": false,
     "start_time": "2021-11-16T04:16:36.597436",
     "status": "completed"
    },
    "tags": []
   },
   "outputs": [],
   "source": [
    "# Required imports\n",
    "import matplotlib\n",
    "import numpy as np\n",
    "import pandas as pd\n",
    "from sklearn.ensemble import RandomForestClassifier\n",
    "from sklearn.model_selection import train_test_split\n",
    "from sklearn.feature_extraction.text import CountVectorizer\n",
    "from sklearn.feature_extraction.text import TfidfTransformer\n",
    "from sklearn.utils import shuffle\n",
    "from sklearn.metrics import classification_report, accuracy_score\n",
    "import re\n",
    "# from tensorflow.keras.utils import to_categorical\n",
    "from sklearn.preprocessing import LabelEncoder\n",
    "from nltk.corpus import stopwords\n",
    "stop_words = set(stopwords.words('english'))\n",
    "\n",
    "from numpy import loadtxt\n",
    "from xgboost import XGBClassifier\n",
    "import pickle"
   ]
  },
  {
   "cell_type": "code",
   "execution_count": 2,
   "id": "21715f1d",
   "metadata": {
    "execution": {
     "iopub.execute_input": "2021-11-16T04:16:45.296151Z",
     "iopub.status.busy": "2021-11-16T04:16:45.295691Z",
     "iopub.status.idle": "2021-11-16T04:16:45.297368Z",
     "shell.execute_reply": "2021-11-16T04:16:45.297711Z"
    },
    "papermill": {
     "duration": 0.019025,
     "end_time": "2021-11-16T04:16:45.297815",
     "exception": false,
     "start_time": "2021-11-16T04:16:45.278790",
     "status": "completed"
    },
    "tags": []
   },
   "outputs": [],
   "source": [
    "# cleaning data\n",
    "def clean_post(post):\n",
    "    post = post.lower()\n",
    "    post = re.sub(r\"\\n\", \" \", post)\n",
    "    post = re.sub(\"[\\<\\[].*?[\\>\\]]\", \" \", post)\n",
    "    post = re.sub(r\"[^a-z ]\", \" \", post)\n",
    "    post = re.sub(r\"\\b\\w{1,3}\\b\", \" \", post)\n",
    "    return \" \".join([x for x in post.split() if x not in stop_words])"
   ]
  },
  {
   "cell_type": "code",
   "execution_count": 3,
   "id": "71b257d4",
   "metadata": {
    "execution": {
     "iopub.execute_input": "2021-11-16T04:16:45.330462Z",
     "iopub.status.busy": "2021-11-16T04:16:45.330035Z",
     "iopub.status.idle": "2021-11-16T04:16:45.964710Z",
     "shell.execute_reply": "2021-11-16T04:16:45.964373Z"
    },
    "papermill": {
     "duration": 0.652973,
     "end_time": "2021-11-16T04:16:45.964797",
     "exception": false,
     "start_time": "2021-11-16T04:16:45.311824",
     "status": "completed"
    },
    "tags": []
   },
   "outputs": [],
   "source": [
    "# Different techniques for tackling class imbalance\n",
    "from imblearn.under_sampling import RandomUnderSampler, TomekLinks, NearMiss\n",
    "from imblearn.over_sampling import RandomOverSampler, SMOTE\n",
    "\n",
    "def balance_data(x, y, _type):\n",
    "    if _type == 0:\n",
    "        ros = RandomOverSampler(random_state=42)\n",
    "        return ros.fit_resample(x, y)\n",
    "    elif _type == 1:\n",
    "        rus = RandomUnderSampler(random_state=42, replacement=True)\n",
    "        return rus.fit_resample(x, y)\n",
    "    elif _type == 2:\n",
    "        smote = SMOTE()\n",
    "        return smote.fit_resample(x, y)\n",
    "    elif _type == 3:\n",
    "        nm = NearMiss()\n",
    "        return nm.fit_resample(x, y)\n",
    "    elif _type == 6:\n",
    "        tl = TomekLinks()\n",
    "        return tl.fit_resample(x, y)\n",
    "    return x, y\n",
    "    # Another technique is penalizing the algo with class_weight=balanced, using stratified cross validation"
   ]
  },
  {
   "cell_type": "code",
   "execution_count": 4,
   "id": "5e0a1acb",
   "metadata": {
    "execution": {
     "iopub.execute_input": "2021-11-16T04:16:45.994938Z",
     "iopub.status.busy": "2021-11-16T04:16:45.994533Z",
     "iopub.status.idle": "2021-11-16T04:17:39.405921Z",
     "shell.execute_reply": "2021-11-16T04:17:39.405538Z"
    },
    "papermill": {
     "duration": 53.428143,
     "end_time": "2021-11-16T04:17:39.406023",
     "exception": false,
     "start_time": "2021-11-16T04:16:45.977880",
     "status": "completed"
    },
    "tags": []
   },
   "outputs": [
    {
     "name": "stdout",
     "output_type": "stream",
     "text": [
      "                mental_disorder                             \n",
      "                          count unique            top   freq\n",
      "mental_disorder                                             \n",
      "EDAnonymous               12339      1    EDAnonymous  12339\n",
      "addiction                  6515      1      addiction   6515\n",
      "adhd                      38786      1           adhd  38786\n",
      "alcoholism                 5026      1     alcoholism   5026\n",
      "anxiety                   48971      1        anxiety  48971\n",
      "autism                     7583      1         autism   7583\n",
      "bipolarreddit              4929      1  bipolarreddit   4929\n",
      "bpd                       20606      1            bpd  20606\n",
      "depression                99809      1     depression  99809\n",
      "healthanxiety              7373      1  healthanxiety   7373\n",
      "lonely                    20103      1         lonely  20103\n",
      "ptsd                       7336      1           ptsd   7336\n",
      "schizophrenia              7351      1  schizophrenia   7351\n",
      "socialanxiety             19416      1  socialanxiety  19416\n",
      "suicidewatch              56357      1   suicidewatch  56357\n"
     ]
    }
   ],
   "source": [
    "# Load data\n",
    "data = pd.read_csv('/home/starc52/split_reddit_data/train_and_valid.csv')\n",
    "data = shuffle(data)\n",
    "\n",
    "# Class split stats\n",
    "print(data.groupby(['mental_disorder'])[['mental_disorder']].describe())\n",
    "x = data['post'].apply(lambda post: clean_post(post))\n",
    "\n",
    "# Vectorizing text data\n",
    "count_vect = CountVectorizer()\n",
    "X_counts = count_vect.fit_transform(x)\n",
    "tfidf_transformer = TfidfTransformer()\n",
    "X = tfidf_transformer.fit_transform(X_counts)"
   ]
  },
  {
   "cell_type": "code",
   "execution_count": 5,
   "id": "1d34955a",
   "metadata": {
    "execution": {
     "iopub.execute_input": "2021-11-16T04:17:39.438563Z",
     "iopub.status.busy": "2021-11-16T04:17:39.438151Z",
     "iopub.status.idle": "2021-11-16T04:17:39.634394Z",
     "shell.execute_reply": "2021-11-16T04:17:39.634723Z"
    },
    "papermill": {
     "duration": 0.214669,
     "end_time": "2021-11-16T04:17:39.634861",
     "exception": false,
     "start_time": "2021-11-16T04:17:39.420192",
     "status": "completed"
    },
    "tags": []
   },
   "outputs": [],
   "source": [
    "label_encoder = LabelEncoder()\n",
    "y = label_encoder.fit_transform(np.array(data['mental_disorder']))\n",
    "# y = to_categorical(y1)\n",
    "\n",
    "# 60-20-20 split\n",
    "X_train, X_valid, y_train, y_valid = train_test_split(X, y, test_size=0.176, random_state=321)"
   ]
  },
  {
   "cell_type": "code",
   "execution_count": 6,
   "id": "35b4f9af",
   "metadata": {
    "execution": {
     "iopub.execute_input": "2021-11-16T04:17:39.666284Z",
     "iopub.status.busy": "2021-11-16T04:17:39.665850Z",
     "iopub.status.idle": "2021-11-16T04:17:39.667659Z",
     "shell.execute_reply": "2021-11-16T04:17:39.667305Z"
    },
    "papermill": {
     "duration": 0.019335,
     "end_time": "2021-11-16T04:17:39.667755",
     "exception": false,
     "start_time": "2021-11-16T04:17:39.648420",
     "status": "completed"
    },
    "tags": []
   },
   "outputs": [],
   "source": [
    "def get_metrics(y_true, y_pred):\n",
    "    result1 = classification_report(y_true, y_pred)\n",
    "    print('Classification Report: ', result1)\n",
    "    result2 = accuracy_score(y_true, y_pred)\n",
    "    print('Accuracy: ', result2, \"\\n\\n\")"
   ]
  },
  {
   "cell_type": "markdown",
   "id": "5a005b7e",
   "metadata": {
    "tags": [
     "papermill-error-cell-tag"
    ]
   },
   "source": [
    "<span id=\"papermill-error-cell\" style=\"color:red; font-family:Helvetica Neue, Helvetica, Arial, sans-serif; font-size:2em;\">Execution using papermill encountered an exception here and stopped:</span>"
   ]
  },
  {
   "cell_type": "code",
   "execution_count": 7,
   "id": "99c07454",
   "metadata": {
    "execution": {
     "iopub.execute_input": "2021-11-16T04:17:39.698698Z",
     "iopub.status.busy": "2021-11-16T04:17:39.698291Z",
     "iopub.status.idle": "2021-11-16T05:39:04.661058Z",
     "shell.execute_reply": "2021-11-16T05:39:04.661451Z"
    },
    "papermill": {
     "duration": 4884.980627,
     "end_time": "2021-11-16T05:39:04.661658",
     "exception": true,
     "start_time": "2021-11-16T04:17:39.681031",
     "status": "failed"
    },
    "tags": []
   },
   "outputs": [
    {
     "name": "stdout",
     "output_type": "stream",
     "text": [
      "##############################################################################################################\n",
      "\n",
      "\n",
      "\n"
     ]
    },
    {
     "ename": "AttributeError",
     "evalue": "as_matrix not found",
     "output_type": "error",
     "traceback": [
      "\u001b[0;31m---------------------------------------------------------------------------\u001b[0m",
      "\u001b[0;31mAttributeError\u001b[0m                            Traceback (most recent call last)",
      "\u001b[0;32m/tmp/ipykernel_39237/3453518397.py\u001b[0m in \u001b[0;36m<module>\u001b[0;34m\u001b[0m\n\u001b[1;32m      9\u001b[0m \u001b[0mmodel\u001b[0m \u001b[0;34m=\u001b[0m \u001b[0mXGBClassifier\u001b[0m\u001b[0;34m(\u001b[0m\u001b[0;34m)\u001b[0m\u001b[0;34m\u001b[0m\u001b[0;34m\u001b[0m\u001b[0m\n\u001b[1;32m     10\u001b[0m \u001b[0mX_train\u001b[0m\u001b[0;34m,\u001b[0m \u001b[0my_train\u001b[0m \u001b[0;34m=\u001b[0m \u001b[0mbalance_data\u001b[0m\u001b[0;34m(\u001b[0m\u001b[0mX_tr\u001b[0m\u001b[0;34m,\u001b[0m \u001b[0my_tr\u001b[0m\u001b[0;34m,\u001b[0m \u001b[0;36m6\u001b[0m\u001b[0;34m)\u001b[0m\u001b[0;34m\u001b[0m\u001b[0;34m\u001b[0m\u001b[0m\n\u001b[0;32m---> 11\u001b[0;31m \u001b[0mmodel\u001b[0m\u001b[0;34m.\u001b[0m\u001b[0mfit\u001b[0m\u001b[0;34m(\u001b[0m\u001b[0mX_train\u001b[0m\u001b[0;34m.\u001b[0m\u001b[0mas_matrix\u001b[0m\u001b[0;34m(\u001b[0m\u001b[0;34m)\u001b[0m\u001b[0;34m,\u001b[0m \u001b[0my_train\u001b[0m\u001b[0;34m.\u001b[0m\u001b[0mas_matrix\u001b[0m\u001b[0;34m(\u001b[0m\u001b[0;34m)\u001b[0m\u001b[0;34m)\u001b[0m\u001b[0;34m\u001b[0m\u001b[0;34m\u001b[0m\u001b[0m\n\u001b[0m\u001b[1;32m     12\u001b[0m \u001b[0mpickle\u001b[0m\u001b[0;34m.\u001b[0m\u001b[0mdump\u001b[0m\u001b[0;34m(\u001b[0m\u001b[0mmodel\u001b[0m\u001b[0;34m,\u001b[0m \u001b[0mopen\u001b[0m\u001b[0;34m(\u001b[0m\u001b[0;34m\"/home/starc52/models/XGBoost.pickle.dat\"\u001b[0m\u001b[0;34m,\u001b[0m \u001b[0;34m\"wb\"\u001b[0m\u001b[0;34m)\u001b[0m\u001b[0;34m)\u001b[0m\u001b[0;34m\u001b[0m\u001b[0;34m\u001b[0m\u001b[0m\n\u001b[1;32m     13\u001b[0m \u001b[0mprint\u001b[0m\u001b[0;34m(\u001b[0m\u001b[0;34m)\u001b[0m\u001b[0;34m\u001b[0m\u001b[0;34m\u001b[0m\u001b[0m\n",
      "\u001b[0;32m~/miniconda3/envs/p3/lib/python3.8/site-packages/scipy/sparse/base.py\u001b[0m in \u001b[0;36m__getattr__\u001b[0;34m(self, attr)\u001b[0m\n\u001b[1;32m    685\u001b[0m             \u001b[0;32mreturn\u001b[0m \u001b[0mself\u001b[0m\u001b[0;34m.\u001b[0m\u001b[0mgetnnz\u001b[0m\u001b[0;34m(\u001b[0m\u001b[0;34m)\u001b[0m\u001b[0;34m\u001b[0m\u001b[0;34m\u001b[0m\u001b[0m\n\u001b[1;32m    686\u001b[0m         \u001b[0;32melse\u001b[0m\u001b[0;34m:\u001b[0m\u001b[0;34m\u001b[0m\u001b[0;34m\u001b[0m\u001b[0m\n\u001b[0;32m--> 687\u001b[0;31m             \u001b[0;32mraise\u001b[0m \u001b[0mAttributeError\u001b[0m\u001b[0;34m(\u001b[0m\u001b[0mattr\u001b[0m \u001b[0;34m+\u001b[0m \u001b[0;34m\" not found\"\u001b[0m\u001b[0;34m)\u001b[0m\u001b[0;34m\u001b[0m\u001b[0;34m\u001b[0m\u001b[0m\n\u001b[0m\u001b[1;32m    688\u001b[0m \u001b[0;34m\u001b[0m\u001b[0m\n\u001b[1;32m    689\u001b[0m     \u001b[0;32mdef\u001b[0m \u001b[0mtranspose\u001b[0m\u001b[0;34m(\u001b[0m\u001b[0mself\u001b[0m\u001b[0;34m,\u001b[0m \u001b[0maxes\u001b[0m\u001b[0;34m=\u001b[0m\u001b[0;32mNone\u001b[0m\u001b[0;34m,\u001b[0m \u001b[0mcopy\u001b[0m\u001b[0;34m=\u001b[0m\u001b[0;32mFalse\u001b[0m\u001b[0;34m)\u001b[0m\u001b[0;34m:\u001b[0m\u001b[0;34m\u001b[0m\u001b[0;34m\u001b[0m\u001b[0m\n",
      "\u001b[0;31mAttributeError\u001b[0m: as_matrix not found"
     ]
    }
   ],
   "source": [
    "import gc\n",
    "\n",
    "# Creating the model and checking it for various undersampled cases\n",
    "X_tr, y_tr = X_train, y_train\n",
    "print('#'*110)\n",
    "print()\n",
    "print()\n",
    "print()\n",
    "model = XGBClassifier()\n",
    "X_train, y_train = balance_data(X_tr, y_tr, 6)\n",
    "model.fit(X_train.as_matrix(), y_train.as_matrix())\n",
    "pickle.dump(model, open(\"/home/starc52/models/XGBoost.pickle.dat\", \"wb\"))\n",
    "print()\n",
    "print()\n",
    "print('#'*110)"
   ]
  }
 ],
 "metadata": {
  "kernelspec": {
   "display_name": "Python 3 (ipykernel)",
   "language": "python",
   "name": "python3"
  },
  "language_info": {
   "codemirror_mode": {
    "name": "ipython",
    "version": 3
   },
   "file_extension": ".py",
   "mimetype": "text/x-python",
   "name": "python",
   "nbconvert_exporter": "python",
   "pygments_lexer": "ipython3",
   "version": "3.8.12"
  },
  "papermill": {
   "default_parameters": {},
   "duration": 4952.030633,
   "end_time": "2021-11-16T05:39:05.389501",
   "environment_variables": {},
   "exception": true,
   "input_path": "/home/starc52/IRE-Project-Team-7/XGBoost/Training.ipynb",
   "output_path": "/home/starc52/IRE-Project-Team-7/XGBoost/OutputTraining.ipynb",
   "parameters": {},
   "start_time": "2021-11-16T04:16:33.358868",
   "version": "2.3.3"
  }
 },
 "nbformat": 4,
 "nbformat_minor": 5
}