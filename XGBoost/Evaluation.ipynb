{
 "cells": [
  {
   "cell_type": "code",
   "execution_count": null,
   "metadata": {},
   "outputs": [],
   "source": [
    "# Required imports\n",
    "import matplotlib\n",
    "import numpy as np\n",
    "import pandas as pd\n",
    "from sklearn.ensemble import RandomForestClassifier\n",
    "from sklearn.model_selection import train_test_split\n",
    "from sklearn.feature_extraction.text import CountVectorizer\n",
    "from sklearn.feature_extraction.text import TfidfTransformer\n",
    "from sklearn.utils import shuffle\n",
    "from sklearn.metrics import classification_report, accuracy_score\n",
    "import re\n",
    "# from tensorflow.keras.utils import to_categorical\n",
    "from sklearn.preprocessing import LabelEncoder\n",
    "from nltk.corpus import stopwords\n",
    "stop_words = set(stopwords.words('english'))\n",
    "\n",
    "from numpy import loadtxt\n",
    "from xgboost import XGBClassifier\n",
    "import joblib"
   ]
  },
  {
   "cell_type": "code",
   "execution_count": null,
   "metadata": {},
   "outputs": [],
   "source": [
    "# cleaning data\n",
    "def clean_post(post):\n",
    "    post = post.lower()\n",
    "    post = re.sub(r\"\\n\", \" \", post)\n",
    "    post = re.sub(\"[\\<\\[].*?[\\>\\]]\", \" \", post)\n",
    "    post = re.sub(r\"[^a-z ]\", \" \", post)\n",
    "    post = re.sub(r\"\\b\\w{1,3}\\b\", \" \", post)\n",
    "    return \" \".join([x for x in post.split() if x not in stop_words])"
   ]
  },
  {
   "cell_type": "code",
   "execution_count": null,
   "metadata": {},
   "outputs": [],
   "source": [
    "def get_metrics(y_true, y_pred):\n",
    "    result1 = classification_report(y_true, y_pred)\n",
    "    print('Classification Report: ', result1)\n",
    "    result2 = accuracy_score(y_true, y_pred)\n",
    "    print('Accuracy: ', result2, \"\\n\\n\")"
   ]
  },
  {
   "cell_type": "code",
   "execution_count": null,
   "metadata": {},
   "outputs": [],
   "source": [
    "def evaluate_on_test_data():\n",
    "    # Load data\n",
    "    data = pd.read_csv('/home/starc52/split_reddit_data/test.csv')\n",
    "    data = shuffle(data)\n",
    "\n",
    "    # Class split stats\n",
    "    print(data.groupby(['mental_disorder'])[['mental_disorder']].describe())\n",
    "    x = data['post'].apply(lambda post: clean_post(post))\n",
    "\n",
    "    # Vectorizing text data\n",
    "    count_vect = CountVectorizer()\n",
    "    X_counts = count_vect.fit_transform(x)\n",
    "    tfidf_transformer = TfidfTransformer()\n",
    "    X = tfidf_transformer.fit_transform(X_counts)\n",
    "    \n",
    "    label_encoder = LabelEncoder()\n",
    "    y = label_encoder.fit_transform(np.array(data['mental_disorder']))\n",
    "    \n",
    "    # Evaluating for best version\n",
    "    model = joblib.load(\"/home/starc52/models/XGBoost.sav\")\n",
    "    \n",
    "    # Predict on test dataset\n",
    "    pred_test = model.predict(X)\n",
    "    get_metrics(y, pred_test)\n",
    "    print()\n",
    "    print()\n",
    "    print('#'*110)\n",
    "    return np.argmax(pred_test, axis=1)"
   ]
  },
  {
   "cell_type": "code",
   "execution_count": null,
   "metadata": {},
   "outputs": [],
   "source": [
    "def get_text_label(text):\n",
    "    X_test = np.array([clean_post(text),])\n",
    "    \n",
    "    # Vectorizing text data\n",
    "    count_vect = CountVectorizer()\n",
    "    X_counts = count_vect.fit_transform(X_test)\n",
    "    tfidf_transformer = TfidfTransformer()\n",
    "    X_test = tfidf_transformer.fit_transform(X_counts)\n",
    "    \n",
    "    \n",
    "    # Evaluating\n",
    "    model = joblib.load(\"/home/starc52/models/XGBoost.pickle.dat\")\n",
    "    # cols_when_model_builds = model.get_booster().feature_names\n",
    "    # X_test=X_test[cols_when_model_builds]\n",
    "    pred_test = model.predict(X_test)\n",
    "    return np.argmax(pred_test, axis=1)[0]"
   ]
  },
  {
   "cell_type": "code",
   "execution_count": null,
   "metadata": {},
   "outputs": [],
   "source": [
    "pred_labels = evaluate_on_test_data()"
   ]
  }
 ],
 "metadata": {
  "kernelspec": {
   "display_name": "Python 3",
   "language": "python",
   "name": "python3"
  },
  "language_info": {
   "codemirror_mode": {
    "name": "ipython",
    "version": 3
   },
   "file_extension": ".py",
   "mimetype": "text/x-python",
   "name": "python",
   "nbconvert_exporter": "python",
   "pygments_lexer": "ipython3",
   "version": "3.8.10"
  }
 },
 "nbformat": 4,
 "nbformat_minor": 5
}
