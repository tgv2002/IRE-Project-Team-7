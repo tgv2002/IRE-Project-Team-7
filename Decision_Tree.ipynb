{
  "nbformat": 4,
  "nbformat_minor": 0,
  "metadata": {
    "colab": {
      "name": "Decision Tree.ipynb",
      "provenance": []
    },
    "kernelspec": {
      "display_name": "Python 3",
      "name": "python3"
    },
    "language_info": {
      "name": "python"
    }
  },
  "cells": [
    {
      "cell_type": "code",
      "metadata": {
        "id": "KE1bmFxTlQkm"
      },
      "source": [
        "import pandas as pd\n",
        "import numpy as np\n",
        "import matplotlib.pyplot as plt\n",
        "%matplotlib inline\n",
        "import re\n",
        "import nltk\n",
        "import tensorflow as tf\n",
        "from sklearn.model_selection import train_test_split\n",
        "from sklearn.utils import shuffle\n",
        "from sklearn.preprocessing import LabelEncoder\n",
        "from sklearn.linear_model import LogisticRegression\n",
        "from sklearn.feature_extraction.text import CountVectorizer\n",
        "from sklearn.feature_extraction.text import TfidfTransformer\n",
        "from nltk.corpus import stopwords\n",
        "from imblearn.over_sampling import SMOTE\n",
        "from collections import Counter\n",
        "import keras\n",
        "from keras.preprocessing.text import Tokenizer\n",
        "from keras.preprocessing.sequence import pad_sequences\n",
        "from tensorflow.keras.utils import to_categorical\n",
        "from keras.layers import Dense\n",
        "from keras.models import Sequential\n",
        "from sklearn.ensemble import BaggingClassifier\n",
        "from sklearn.linear_model import LogisticRegression\n",
        "from sklearn.metrics import classification_report, accuracy_score\n",
        "from sklearn.tree import DecisionTreeClassifier\n",
        "import gensim\n",
        "from gensim.models import Word2Vec\n",
        "from gensim.utils import simple_preprocess\n",
        "from gensim.models.keyedvectors import KeyedVectors"
      ],
      "execution_count": null,
      "outputs": []
    },
    {
      "cell_type": "code",
      "metadata": {
        "id": "aDJii2kSlW2p"
      },
      "source": [
        "def get_metrics(y_true, y_pred):\n",
        "    result1 = classification_report(y_true, y_pred)\n",
        "    print('Classification Report: ', result1)\n",
        "    result2 = accuracy_score(y_true, y_pred)\n",
        "    print('Accuracy: ', result2, \"\\n\\n\")"
      ],
      "execution_count": null,
      "outputs": []
    },
    {
      "cell_type": "code",
      "metadata": {
        "colab": {
          "base_uri": "https://localhost:8080/"
        },
        "id": "c7NCIuYdlXjU",
        "outputId": "0f9126a8-95f5-4ab5-e9fd-0fe4e15ed71e"
      },
      "source": [
        "nltk.download('stopwords')"
      ],
      "execution_count": null,
      "outputs": [
        {
          "name": "stdout",
          "output_type": "stream",
          "text": [
            "[nltk_data] Downloading package stopwords to /root/nltk_data...\n",
            "[nltk_data]   Package stopwords is already up-to-date!\n"
          ]
        },
        {
          "data": {
            "text/plain": [
              "True"
            ]
          },
          "execution_count": 15,
          "metadata": {},
          "output_type": "execute_result"
        }
      ]
    },
    {
      "cell_type": "code",
      "metadata": {
        "id": "g0xNf_JylZhf"
      },
      "source": [
        "stop_words = set(stopwords.words('english'))"
      ],
      "execution_count": null,
      "outputs": []
    },
    {
      "cell_type": "code",
      "metadata": {
        "id": "dBlwcEcBlbd4"
      },
      "source": [
        "def clean_post(post):\n",
        "  post = post.lower()\n",
        "  post = re.sub(r\"\\n\", \" \", post)\n",
        "  post = re.sub(\"[\\<\\[].*?[\\>\\]]\", \" \", post)\n",
        "  post = re.sub(r\"[^a-z ]\", \" \", post)\n",
        "  post = re.sub(r\"\\b\\w{1,3}\\b\", \" \", post)\n",
        "  return \" \".join([x for x in post.split() if x not in stop_words])"
      ],
      "execution_count": null,
      "outputs": []
    },
    {
      "cell_type": "code",
      "metadata": {
        "id": "EsZUt4xwldhR"
      },
      "source": [
        "from imblearn.under_sampling import RandomUnderSampler, TomekLinks, NearMiss, ClusterCentroids\n",
        "from imblearn.over_sampling import RandomOverSampler, SMOTE\n",
        "from imblearn.combine import SMOTETomek\n",
        "\n",
        "def balance_data(x, y, _type):\n",
        "  if _type == 0:\n",
        "    ros = RandomOverSampler(random_state=42)\n",
        "    return ros.fit_resample(x, y)\n",
        "  elif _type == 1:\n",
        "    rus = RandomUnderSampler(random_state=42, replacement=True)\n",
        "    return rus.fit_resample(x, y)\n",
        "  elif _type == 2:\n",
        "    smote = SMOTE()\n",
        "    return smote.fit_resample(x, y)\n",
        "  elif _type == 3:\n",
        "    nm = NearMiss()\n",
        "    return nm.fit_resample(x, y)\n",
        "  elif _type == 4:\n",
        "    smt = SMOTETomek(ratio='auto')\n",
        "    return smt.fit_resample(x, y)\n",
        "  elif _type == 5:\n",
        "    cc = ClusterCentroids()\n",
        "    return cc.fit_resample(x, y)\n",
        "  elif _type == 6:\n",
        "    tl = TomekLinks()\n",
        "    return tl.fit_resample(x, y)\n",
        "  # default\n",
        "  smote = SMOTE()\n",
        "  return smote.fit_resample(x, y)"
      ],
      "execution_count": null,
      "outputs": []
    },
    {
      "cell_type": "code",
      "metadata": {
        "colab": {
          "base_uri": "https://localhost:8080/"
        },
        "id": "U_QbTHjEnspO",
        "outputId": "32735762-8505-4079-9e20-aa9b68b70158"
      },
      "source": [
        "data = pd.read_csv('../../reddit_mental_health_dataset/reddit_dataset.csv')\n",
        "data = shuffle(data)\n",
        "\n",
        "# Class split stats\n",
        "print(data.groupby(['mental_disorder'])[['mental_disorder']].describe())\n",
        "x = data['post'].apply(lambda post: clean_post(post))\n",
        "\n",
        "# Vectorizing text data\n",
        "count_vect = CountVectorizer()\n",
        "X_counts = count_vect.fit_transform(x)\n",
        "tfidf_transformer = TfidfTransformer()\n",
        "X = tfidf_transformer.fit_transform(X_counts)"
      ],
      "execution_count": null,
      "outputs": [
        {
          "name": "stdout",
          "output_type": "stream",
          "text": [
            "                mental_disorder                              \n",
            "                          count unique            top    freq\n",
            "mental_disorder                                              \n",
            "EDAnonymous               14577      1    EDAnonymous   14577\n",
            "addiction                  7641      1      addiction    7641\n",
            "adhd                      45631      1           adhd   45631\n",
            "alcoholism                 5911      1     alcoholism    5911\n",
            "anxiety                   57671      1        anxiety   57671\n",
            "autism                     8869      1         autism    8869\n",
            "bipolarreddit              5780      1  bipolarreddit    5780\n",
            "bpd                       24294      1            bpd   24294\n",
            "depression               117331      1     depression  117331\n",
            "healthanxiety              8648      1  healthanxiety    8648\n",
            "lonely                    23635      1         lonely   23635\n",
            "ptsd                       8643      1           ptsd    8643\n",
            "schizophrenia              8712      1  schizophrenia    8712\n",
            "socialanxiety             22996      1  socialanxiety   22996\n",
            "suicidewatch              66161      1   suicidewatch   66161\n"
          ]
        }
      ]
    },
    {
      "cell_type": "code",
      "metadata": {
        "id": "9WQkS8Bfnvz0"
      },
      "source": [
        "label_encoder = LabelEncoder()\n",
        "y = label_encoder.fit_transform(np.array(data['mental_disorder']))\n",
        "# y = to_categorical(y1)\n",
        "\n",
        "# 60-20-20 split\n",
        "X_train, X_test, y_train, y_test = train_test_split(X, y, test_size=0.4, random_state=321)\n",
        "X_test, X_valid, y_test, y_valid = train_test_split(X_test, y_test, test_size=0.5, random_state=321)"
      ],
      "execution_count": null,
      "outputs": []
    },
    {
      "cell_type": "code",
      "metadata": {
        "colab": {
          "background_save": true,
          "base_uri": "https://localhost:8080/"
        },
        "id": "zi2xvekepBvC",
        "outputId": "2a3d7b03-2020-4134-e3a1-4b48fb9ee3c8"
      },
      "source": [
        "import gc\n",
        "\n",
        "X_tr, y_tr = X_train, y_train\n",
        "\n",
        "for _type in [1, 3, 6, -1, 0, 2]:\n",
        "  print('#'*110)\n",
        "  print()\n",
        "  if _type == -1:\n",
        "    print('Without any undersampling/oversampling')\n",
        "  else:\n",
        "    print(f'With sampling type: {_type}')\n",
        "  model = DecisionTreeClassifier(max_depth=15)\n",
        "  X_train, y_train = balance_data(X_tr, y_tr, _type)\n",
        "  model.fit(X_train, y_train)\n",
        "\n",
        "  y_train_pred = model.predict(X_train)\n",
        "  print()\n",
        "  print(\"For training set\")\n",
        "  print()\n",
        "  get_metrics(y_train, y_train_pred)\n",
        "\n",
        "  y_valid_pred = model.predict(X_valid)\n",
        "  print()\n",
        "  print(\"For validation set\")\n",
        "  print()\n",
        "  get_metrics(y_valid, y_valid_pred)\n",
        "\n",
        "  y_test_pred = model.predict(X_test)\n",
        "  print()\n",
        "  print(\"For test set\")\n",
        "  print()\n",
        "  get_metrics(y_test, y_test_pred)"
      ],
      "execution_count": null,
      "outputs": [
        {
          "name": "stdout",
          "output_type": "stream",
          "text": [
            "##############################################################################################################\n",
            "\n",
            "With sampling type: 1\n"
          ]
        },
        {
          "name": "stderr",
          "output_type": "stream",
          "text": [
            "/usr/local/lib/python3.7/dist-packages/sklearn/utils/deprecation.py:87: FutureWarning: Function safe_indexing is deprecated; safe_indexing is deprecated in version 0.22 and will be removed in version 0.24.\n",
            "  warnings.warn(msg, category=FutureWarning)\n"
          ]
        },
        {
          "name": "stdout",
          "output_type": "stream",
          "text": [
            "\n",
            "For training set\n",
            "\n",
            "Classification Report:                precision    recall  f1-score   support\n",
            "\n",
            "           0       0.70      0.45      0.55      3438\n",
            "           1       0.89      0.51      0.65      3438\n",
            "           2       0.95      0.52      0.67      3438\n",
            "           3       0.78      0.67      0.72      3438\n",
            "           4       0.52      0.53      0.52      3438\n",
            "           5       0.98      0.63      0.76      3438\n",
            "           6       0.88      0.40      0.55      3438\n",
            "           7       0.11      0.78      0.19      3438\n",
            "           8       0.44      0.31      0.36      3438\n",
            "           9       0.88      0.30      0.44      3438\n",
            "          10       0.75      0.34      0.46      3438\n",
            "          11       0.91      0.56      0.69      3438\n",
            "          12       0.98      0.39      0.55      3438\n",
            "          13       0.72      0.34      0.46      3438\n",
            "          14       0.56      0.19      0.29      3438\n",
            "\n",
            "    accuracy                           0.46     51570\n",
            "   macro avg       0.74      0.46      0.52     51570\n",
            "weighted avg       0.74      0.46      0.52     51570\n",
            "\n",
            "Accuracy:  0.4586387434554974 \n",
            "\n",
            "\n",
            "\n",
            "For validation set\n",
            "\n",
            "Classification Report:                precision    recall  f1-score   support\n",
            "\n",
            "           0       0.49      0.43      0.46      2895\n",
            "           1       0.49      0.42      0.45      1514\n",
            "           2       0.93      0.50      0.65      9060\n",
            "           3       0.38      0.61      0.47      1172\n",
            "           4       0.69      0.47      0.56     11725\n",
            "           5       0.74      0.60      0.66      1801\n",
            "           6       0.36      0.34      0.35      1198\n",
            "           7       0.09      0.75      0.16      4889\n",
            "           8       0.72      0.27      0.39     23432\n",
            "           9       0.39      0.25      0.30      1702\n",
            "          10       0.51      0.32      0.39      4662\n",
            "          11       0.63      0.53      0.57      1803\n",
            "          12       0.77      0.36      0.49      1739\n",
            "          13       0.51      0.33      0.40      4629\n",
            "          14       0.58      0.16      0.26     13079\n",
            "\n",
            "    accuracy                           0.37     85300\n",
            "   macro avg       0.55      0.42      0.44     85300\n",
            "weighted avg       0.63      0.37      0.42     85300\n",
            "\n",
            "Accuracy:  0.3668112543962485 \n",
            "\n",
            "\n",
            "\n",
            "For test set\n",
            "\n",
            "Classification Report:                precision    recall  f1-score   support\n",
            "\n",
            "           0       0.49      0.43      0.46      2988\n",
            "           1       0.49      0.41      0.45      1475\n",
            "           2       0.92      0.49      0.64      9162\n",
            "           3       0.38      0.58      0.46      1210\n",
            "           4       0.68      0.47      0.56     11451\n",
            "           5       0.75      0.58      0.65      1776\n",
            "           6       0.34      0.36      0.35      1144\n",
            "           7       0.09      0.76      0.16      4910\n",
            "           8       0.71      0.27      0.39     23374\n",
            "           9       0.40      0.25      0.31      1765\n",
            "          10       0.52      0.31      0.39      4773\n",
            "          11       0.64      0.55      0.59      1689\n",
            "          12       0.77      0.33      0.47      1708\n",
            "          13       0.49      0.30      0.37      4585\n",
            "          14       0.59      0.16      0.26     13290\n",
            "\n",
            "    accuracy                           0.36     85300\n",
            "   macro avg       0.55      0.42      0.43     85300\n",
            "weighted avg       0.62      0.36      0.42     85300\n",
            "\n",
            "Accuracy:  0.3619812426729191 \n",
            "\n",
            "\n",
            "##############################################################################################################\n",
            "\n",
            "With sampling type: 3\n"
          ]
        },
        {
          "name": "stderr",
          "output_type": "stream",
          "text": [
            "/usr/local/lib/python3.7/dist-packages/sklearn/utils/deprecation.py:87: FutureWarning: Function safe_indexing is deprecated; safe_indexing is deprecated in version 0.22 and will be removed in version 0.24.\n",
            "  warnings.warn(msg, category=FutureWarning)\n"
          ]
        },
        {
          "name": "stdout",
          "output_type": "stream",
          "text": [
            "\n",
            "For training set\n",
            "\n",
            "Classification Report:                precision    recall  f1-score   support\n",
            "\n",
            "           0       0.77      0.57      0.66      3438\n",
            "           1       0.90      0.54      0.68      3438\n",
            "           2       0.92      0.63      0.75      3438\n",
            "           3       0.78      0.66      0.72      3438\n",
            "           4       0.49      0.53      0.51      3438\n",
            "           5       0.98      0.63      0.77      3438\n",
            "           6       0.76      0.38      0.51      3438\n",
            "           7       0.92      0.05      0.10      3438\n",
            "           8       0.36      0.07      0.12      3438\n",
            "           9       0.81      0.35      0.48      3438\n",
            "          10       0.78      0.47      0.59      3438\n",
            "          11       0.93      0.60      0.73      3438\n",
            "          12       0.98      0.38      0.55      3438\n",
            "          13       0.80      0.38      0.51      3438\n",
            "          14       0.13      0.89      0.22      3438\n",
            "\n",
            "    accuracy                           0.48     51570\n",
            "   macro avg       0.75      0.48      0.53     51570\n",
            "weighted avg       0.75      0.48      0.53     51570\n",
            "\n",
            "Accuracy:  0.4761295326740353 \n",
            "\n",
            "\n",
            "\n",
            "For validation set\n",
            "\n",
            "Classification Report:                precision    recall  f1-score   support\n",
            "\n",
            "           0       0.46      0.43      0.45      2895\n",
            "           1       0.50      0.50      0.50      1514\n",
            "           2       0.93      0.53      0.67      9060\n",
            "           3       0.37      0.61      0.46      1172\n",
            "           4       0.70      0.48      0.57     11725\n",
            "           5       0.71      0.60      0.65      1801\n",
            "           6       0.39      0.33      0.36      1198\n",
            "           7       0.27      0.01      0.02      4889\n",
            "           8       0.54      0.04      0.08     23432\n",
            "           9       0.29      0.29      0.29      1702\n",
            "          10       0.53      0.29      0.37      4662\n",
            "          11       0.60      0.54      0.57      1803\n",
            "          12       0.78      0.36      0.49      1739\n",
            "          13       0.49      0.33      0.40      4629\n",
            "          14       0.21      0.84      0.34     13079\n",
            "\n",
            "    accuracy                           0.37     85300\n",
            "   macro avg       0.52      0.41      0.41     85300\n",
            "weighted avg       0.53      0.37      0.34     85300\n",
            "\n",
            "Accuracy:  0.3705744431418523 \n",
            "\n",
            "\n",
            "\n",
            "For test set\n",
            "\n",
            "Classification Report:                precision    recall  f1-score   support\n",
            "\n",
            "           0       0.46      0.44      0.45      2988\n",
            "           1       0.48      0.50      0.49      1475\n",
            "           2       0.92      0.53      0.67      9162\n",
            "           3       0.39      0.61      0.48      1210\n",
            "           4       0.69      0.48      0.56     11451\n",
            "           5       0.72      0.59      0.65      1776\n",
            "           6       0.36      0.33      0.34      1144\n",
            "           7       0.25      0.01      0.01      4910\n",
            "           8       0.53      0.04      0.08     23374\n",
            "           9       0.31      0.30      0.31      1765\n",
            "          10       0.54      0.28      0.37      4773\n",
            "          11       0.61      0.56      0.58      1689\n",
            "          12       0.76      0.34      0.47      1708\n",
            "          13       0.49      0.32      0.39      4585\n",
            "          14       0.22      0.84      0.34     13290\n",
            "\n",
            "    accuracy                           0.37     85300\n",
            "   macro avg       0.51      0.41      0.41     85300\n",
            "weighted avg       0.52      0.37      0.34     85300\n",
            "\n",
            "Accuracy:  0.3696951934349355 \n",
            "\n",
            "\n",
            "##############################################################################################################\n",
            "\n",
            "With sampling type: 6\n"
          ]
        }
      ]
    },
    {
      "cell_type": "code",
      "metadata": {
        "id": "skKVUsbzUVCQ"
      },
      "source": [
        ""
      ],
      "execution_count": null,
      "outputs": []
    }
  ]
}