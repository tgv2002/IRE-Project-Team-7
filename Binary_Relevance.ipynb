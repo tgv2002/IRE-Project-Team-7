{
  "nbformat": 4,
  "nbformat_minor": 0,
  "metadata": {
    "colab": {
      "name": "Binary Relevance.ipynb",
      "provenance": [],
      "collapsed_sections": []
    },
    "kernelspec": {
      "name": "python3",
      "display_name": "Python 3"
    },
    "language_info": {
      "name": "python"
    }
  },
  "cells": [
    {
      "cell_type": "code",
      "metadata": {
        "id": "T7hpQe3qiARY"
      },
      "source": [
        "import pandas as pd\n",
        "import numpy as np\n",
        "import matplotlib.pyplot as plt\n",
        "%matplotlib inline\n",
        "import re\n",
        "import nltk\n",
        "import tensorflow as tf\n",
        "from sklearn.model_selection import train_test_split\n",
        "from sklearn.utils import shuffle\n",
        "from sklearn.preprocessing import LabelEncoder\n",
        "from sklearn.linear_model import LogisticRegression\n",
        "from nltk.corpus import stopwords\n",
        "from imblearn.over_sampling import SMOTE\n",
        "from collections import Counter\n",
        "import keras\n",
        "from keras.preprocessing.text import Tokenizer\n",
        "from keras.preprocessing.sequence import pad_sequences\n",
        "from tensorflow.keras.utils import to_categorical\n",
        "from keras.layers import Dense\n",
        "from keras.models import Sequential\n",
        "from sklearn.ensemble import BaggingClassifier\n",
        "from sklearn.metrics import classification_report, accuracy_score\n",
        "\n",
        "import gensim\n",
        "from gensim.models import Word2Vec\n",
        "from gensim.utils import simple_preprocess\n",
        "from gensim.models.keyedvectors import KeyedVectors"
      ],
      "execution_count": 30,
      "outputs": []
    },
    {
      "cell_type": "code",
      "metadata": {
        "id": "fXKq_EQagnga"
      },
      "source": [
        "def get_metrics(y_true, y_pred):\n",
        "    result1 = classification_report(y_true, y_pred)\n",
        "    print('Classification Report: ', result1)\n",
        "    result2 = accuracy_score(y_true, y_pred)\n",
        "    print('Accuracy: ', result2, \"\\n\\n\")"
      ],
      "execution_count": 31,
      "outputs": []
    },
    {
      "cell_type": "code",
      "metadata": {
        "colab": {
          "base_uri": "https://localhost:8080/"
        },
        "id": "AMokbF0AQUFb",
        "outputId": "3ec601f5-7e18-42b2-ddd7-1badf37e16ab"
      },
      "source": [
        "nltk.download('stopwords')"
      ],
      "execution_count": 32,
      "outputs": [
        {
          "output_type": "stream",
          "name": "stdout",
          "text": [
            "[nltk_data] Downloading package stopwords to /root/nltk_data...\n",
            "[nltk_data]   Package stopwords is already up-to-date!\n"
          ]
        },
        {
          "output_type": "execute_result",
          "data": {
            "text/plain": [
              "True"
            ]
          },
          "metadata": {},
          "execution_count": 32
        }
      ]
    },
    {
      "cell_type": "code",
      "metadata": {
        "id": "OwkVwo9yiePP"
      },
      "source": [
        "stop_words = set(stopwords.words('english'))"
      ],
      "execution_count": 33,
      "outputs": []
    },
    {
      "cell_type": "code",
      "metadata": {
        "id": "_MYJWFZWijvy"
      },
      "source": [
        "def clean_post(post):\n",
        "  post = post.lower()\n",
        "  post = re.sub(r\"\\n\", \" \", post)\n",
        "  post = re.sub(\"[\\<\\[].*?[\\>\\]]\", \" \", post)\n",
        "  post = re.sub(r\"[^a-z ]\", \" \", post)\n",
        "  post = re.sub(r\"\\b\\w{1,3}\\b\", \" \", post)\n",
        "  return \" \".join([x for x in post.split() if x not in stop_words])"
      ],
      "execution_count": 34,
      "outputs": []
    },
    {
      "cell_type": "code",
      "metadata": {
        "id": "7Kg6W_UUivfb"
      },
      "source": [
        "from imblearn.under_sampling import RandomUnderSampler, TomekLinks, NearMiss, ClusterCentroids\n",
        "from imblearn.over_sampling import RandomOverSampler, SMOTE\n",
        "from imblearn.combine import SMOTETomek\n",
        "\n",
        "def balance_data(x, y, _type):\n",
        "  if _type == 0:\n",
        "    ros = RandomOverSampler(random_state=42)\n",
        "    return ros.fit_resample(x, y)\n",
        "  elif _type == 1:\n",
        "    rus = RandomUnderSampler(random_state=42, replacement=True)\n",
        "    return rus.fit_resample(x, y)\n",
        "  elif _type == 2:\n",
        "    smote = SMOTE()\n",
        "    return smote.fit_resample(x, y)\n",
        "  elif _type == 3:\n",
        "    nm = NearMiss()\n",
        "    return nm.fit_resample(x, y)\n",
        "  elif _type == 4:\n",
        "    smt = SMOTETomek(ratio='auto')\n",
        "    return smt.fit_resample(x, y)\n",
        "  elif _type == 5:\n",
        "    cc = ClusterCentroids()\n",
        "    return cc.fit_resample(x, y)\n",
        "  elif _type == 6:\n",
        "    tl = TomekLinks()\n",
        "    return tl.fit_resample(x, y)\n",
        "  # default\n",
        "  smote = SMOTE()\n",
        "  return smote.fit_resample(x, y)"
      ],
      "execution_count": 35,
      "outputs": []
    },
    {
      "cell_type": "code",
      "metadata": {
        "colab": {
          "base_uri": "https://localhost:8080/"
        },
        "id": "X7E-r8GUi6CJ",
        "outputId": "e8cdf7b3-3484-4d71-c783-159c6ad46352"
      },
      "source": [
        "data = pd.read_csv('/content/drive/MyDrive/reddit_dataset.csv')\n",
        "data = shuffle(data)\n",
        "\n",
        "# Class split stats\n",
        "print(data.groupby(['mental_disorder'])[['mental_disorder']].describe())\n",
        "X = data['post'].apply(lambda post: clean_post(post))\n",
        "label_encoder = LabelEncoder()\n",
        "y1 = label_encoder.fit_transform(np.array(data['mental_disorder']))\n",
        "y = to_categorical(y1)\n",
        "\n",
        "# 60-20-20 split\n",
        "X_train, X_test, y_train, y_test = train_test_split(X, y, test_size=0.4, random_state=321)\n",
        "X_test, X_valid, y_test, y_valid = train_test_split(X_test, y_test, test_size=0.5, random_state=321)"
      ],
      "execution_count": 36,
      "outputs": [
        {
          "output_type": "stream",
          "name": "stdout",
          "text": [
            "                mental_disorder                              \n",
            "                          count unique            top    freq\n",
            "mental_disorder                                              \n",
            "EDAnonymous               14577      1    EDAnonymous   14577\n",
            "addiction                  7641      1      addiction    7641\n",
            "adhd                      45631      1           adhd   45631\n",
            "alcoholism                 5911      1     alcoholism    5911\n",
            "anxiety                   57671      1        anxiety   57671\n",
            "autism                     8869      1         autism    8869\n",
            "bipolarreddit              5780      1  bipolarreddit    5780\n",
            "bpd                       24294      1            bpd   24294\n",
            "depression               117331      1     depression  117331\n",
            "healthanxiety              8648      1  healthanxiety    8648\n",
            "lonely                    23635      1         lonely   23635\n",
            "ptsd                       8643      1           ptsd    8643\n",
            "schizophrenia              8712      1  schizophrenia    8712\n",
            "socialanxiety             22996      1  socialanxiety   22996\n",
            "suicidewatch              66161      1   suicidewatch   66161\n"
          ]
        }
      ]
    },
    {
      "cell_type": "code",
      "metadata": {
        "colab": {
          "base_uri": "https://localhost:8080/"
        },
        "id": "RV4QgeXVjF9v",
        "outputId": "a9606b55-422f-4551-ae24-25baf3d349b3"
      },
      "source": [
        "MAX_WORDS_LIMIT = 30000\n",
        "tokenizer = Tokenizer(num_words=MAX_WORDS_LIMIT, filters='!\"#$%&()*+,-./:;<=>?@[\\\\]^_`{|}~\\t\\n\\'', lower=True)\n",
        "tokenizer.fit_on_texts(X_train)\n",
        "word_index = tokenizer.word_index\n",
        "print(f'Unique tokens found: {len(word_index)}')"
      ],
      "execution_count": 37,
      "outputs": [
        {
          "output_type": "stream",
          "name": "stdout",
          "text": [
            "Unique tokens found: 102208\n"
          ]
        }
      ]
    },
    {
      "cell_type": "code",
      "metadata": {
        "colab": {
          "base_uri": "https://localhost:8080/"
        },
        "id": "gKwmgg11jUNH",
        "outputId": "1fd140fe-9682-4992-db19-ec02b3bdf58a"
      },
      "source": [
        "sequences_train = tokenizer.texts_to_sequences(X_train)\n",
        "sequences_valid = tokenizer.texts_to_sequences(X_valid)\n",
        "\n",
        "X_train = pad_sequences(sequences_train, maxlen=200)\n",
        "X_valid = pad_sequences(sequences_valid, maxlen=X_train.shape[1])\n",
        "print('Shape of X train and X validation tensor: ', X_train.shape, X_valid.shape)\n",
        "\n",
        "y_train, y_valid = np.asarray(y_train), np.asarray(y_valid)\n",
        "print('Shape of y train and y validation tensor:', y_train.shape, y_valid.shape)"
      ],
      "execution_count": 38,
      "outputs": [
        {
          "output_type": "stream",
          "name": "stdout",
          "text": [
            "Shape of X train and X validation tensor:  (255900, 200) (85300, 200)\n",
            "Shape of y train and y validation tensor: (255900, 15) (85300, 15)\n"
          ]
        }
      ]
    },
    {
      "cell_type": "code",
      "metadata": {
        "id": "E91lSdEaTeY1"
      },
      "source": [
        "prob_dict = {}\n",
        "model_dict = {}"
      ],
      "execution_count": 42,
      "outputs": []
    },
    {
      "cell_type": "code",
      "metadata": {
        "id": "HLTCIRsWTJer"
      },
      "source": [
        "def get_models(i):\n",
        "  model = Sequential()\n",
        "  model.add(Dense(1,activation='sigmoid',input_shape=(X_train[0].shape)))\n",
        "  print(\"\\n\\n\\n starting classification for\",i)\n",
        "  model.summary()\n",
        "  model.compile(optimizer='adam',loss = keras.losses.BinaryCrossentropy(from_logits=False),metrics=['accuracy'])\n",
        "  history = model.fit(x=X_train,y=y_train[:,i],batch_size=64,verbose=1,validation_data=(X_valid,y_valid[:,i]))\n",
        "  y_prob = model.predict(X_valid)\n",
        "  y_prob[y_prob>0.5] = 1\n",
        "  y_prob[y_prob<=0.5] = 0\n",
        "  prob_dict[i] = y_prob\n",
        "  model_dict[i] = model"
      ],
      "execution_count": 48,
      "outputs": []
    },
    {
      "cell_type": "code",
      "metadata": {
        "colab": {
          "base_uri": "https://localhost:8080/"
        },
        "id": "2_ZZIh6pTmqc",
        "outputId": "1fe1a814-c1d7-48fb-d97a-7c5118f4d8c0"
      },
      "source": [
        "for i in range(y_train.shape[1]):\n",
        "  get_models(i)"
      ],
      "execution_count": 49,
      "outputs": [
        {
          "output_type": "stream",
          "name": "stdout",
          "text": [
            "\n",
            "\n",
            "\n",
            " starting classification for 0\n",
            "Model: \"sequential_18\"\n",
            "_________________________________________________________________\n",
            "Layer (type)                 Output Shape              Param #   \n",
            "=================================================================\n",
            "dense_18 (Dense)             (None, 1)                 201       \n",
            "=================================================================\n",
            "Total params: 201\n",
            "Trainable params: 201\n",
            "Non-trainable params: 0\n",
            "_________________________________________________________________\n",
            "3999/3999 [==============================] - 6s 2ms/step - loss: 20.9528 - accuracy: 0.9180 - val_loss: 4.6285 - val_accuracy: 0.8979\n",
            "\n",
            "\n",
            "\n",
            " starting classification for 1\n",
            "Model: \"sequential_19\"\n",
            "_________________________________________________________________\n",
            "Layer (type)                 Output Shape              Param #   \n",
            "=================================================================\n",
            "dense_19 (Dense)             (None, 1)                 201       \n",
            "=================================================================\n",
            "Total params: 201\n",
            "Trainable params: 201\n",
            "Non-trainable params: 0\n",
            "_________________________________________________________________\n",
            "3999/3999 [==============================] - 6s 1ms/step - loss: 24.9422 - accuracy: 0.9552 - val_loss: 4.5175 - val_accuracy: 0.9651\n",
            "\n",
            "\n",
            "\n",
            " starting classification for 2\n",
            "Model: \"sequential_20\"\n",
            "_________________________________________________________________\n",
            "Layer (type)                 Output Shape              Param #   \n",
            "=================================================================\n",
            "dense_20 (Dense)             (None, 1)                 201       \n",
            "=================================================================\n",
            "Total params: 201\n",
            "Trainable params: 201\n",
            "Non-trainable params: 0\n",
            "_________________________________________________________________\n",
            "3999/3999 [==============================] - 6s 2ms/step - loss: 41.0180 - accuracy: 0.7845 - val_loss: 8.3190 - val_accuracy: 0.8577\n",
            "\n",
            "\n",
            "\n",
            " starting classification for 3\n",
            "Model: \"sequential_21\"\n",
            "_________________________________________________________________\n",
            "Layer (type)                 Output Shape              Param #   \n",
            "=================================================================\n",
            "dense_21 (Dense)             (None, 1)                 201       \n",
            "=================================================================\n",
            "Total params: 201\n",
            "Trainable params: 201\n",
            "Non-trainable params: 0\n",
            "_________________________________________________________________\n",
            "3999/3999 [==============================] - 6s 2ms/step - loss: 24.5400 - accuracy: 0.9598 - val_loss: 3.6609 - val_accuracy: 0.9777\n",
            "\n",
            "\n",
            "\n",
            " starting classification for 4\n",
            "Model: \"sequential_22\"\n",
            "_________________________________________________________________\n",
            "Layer (type)                 Output Shape              Param #   \n",
            "=================================================================\n",
            "dense_22 (Dense)             (None, 1)                 201       \n",
            "=================================================================\n",
            "Total params: 201\n",
            "Trainable params: 201\n",
            "Non-trainable params: 0\n",
            "_________________________________________________________________\n",
            "3999/3999 [==============================] - 6s 1ms/step - loss: 44.8920 - accuracy: 0.7636 - val_loss: 9.5242 - val_accuracy: 0.8100\n",
            "\n",
            "\n",
            "\n",
            " starting classification for 5\n",
            "Model: \"sequential_23\"\n",
            "_________________________________________________________________\n",
            "Layer (type)                 Output Shape              Param #   \n",
            "=================================================================\n",
            "dense_23 (Dense)             (None, 1)                 201       \n",
            "=================================================================\n",
            "Total params: 201\n",
            "Trainable params: 201\n",
            "Non-trainable params: 0\n",
            "_________________________________________________________________\n",
            "3999/3999 [==============================] - 6s 2ms/step - loss: 26.6161 - accuracy: 0.9425 - val_loss: 5.4892 - val_accuracy: 0.9766\n",
            "\n",
            "\n",
            "\n",
            " starting classification for 6\n",
            "Model: \"sequential_24\"\n",
            "_________________________________________________________________\n",
            "Layer (type)                 Output Shape              Param #   \n",
            "=================================================================\n",
            "dense_24 (Dense)             (None, 1)                 201       \n",
            "=================================================================\n",
            "Total params: 201\n",
            "Trainable params: 201\n",
            "Non-trainable params: 0\n",
            "_________________________________________________________________\n",
            "3999/3999 [==============================] - 6s 2ms/step - loss: 22.9030 - accuracy: 0.9614 - val_loss: 3.4358 - val_accuracy: 0.9755\n",
            "\n",
            "\n",
            "\n",
            " starting classification for 7\n",
            "Model: \"sequential_25\"\n",
            "_________________________________________________________________\n",
            "Layer (type)                 Output Shape              Param #   \n",
            "=================================================================\n",
            "dense_25 (Dense)             (None, 1)                 201       \n",
            "=================================================================\n",
            "Total params: 201\n",
            "Trainable params: 201\n",
            "Non-trainable params: 0\n",
            "_________________________________________________________________\n",
            "3999/3999 [==============================] - 7s 2ms/step - loss: 32.1731 - accuracy: 0.8819 - val_loss: 7.0353 - val_accuracy: 0.8604\n",
            "\n",
            "\n",
            "\n",
            " starting classification for 8\n",
            "Model: \"sequential_26\"\n",
            "_________________________________________________________________\n",
            "Layer (type)                 Output Shape              Param #   \n",
            "=================================================================\n",
            "dense_26 (Dense)             (None, 1)                 201       \n",
            "=================================================================\n",
            "Total params: 201\n",
            "Trainable params: 201\n",
            "Non-trainable params: 0\n",
            "_________________________________________________________________\n",
            "3999/3999 [==============================] - 6s 1ms/step - loss: 45.8171 - accuracy: 0.6150 - val_loss: 10.5382 - val_accuracy: 0.6614\n",
            "\n",
            "\n",
            "\n",
            " starting classification for 9\n",
            "Model: \"sequential_27\"\n",
            "_________________________________________________________________\n",
            "Layer (type)                 Output Shape              Param #   \n",
            "=================================================================\n",
            "dense_27 (Dense)             (None, 1)                 201       \n",
            "=================================================================\n",
            "Total params: 201\n",
            "Trainable params: 201\n",
            "Non-trainable params: 0\n",
            "_________________________________________________________________\n",
            "3999/3999 [==============================] - 6s 1ms/step - loss: 23.5438 - accuracy: 0.9458 - val_loss: 4.1143 - val_accuracy: 0.9499\n",
            "\n",
            "\n",
            "\n",
            " starting classification for 10\n",
            "Model: \"sequential_28\"\n",
            "_________________________________________________________________\n",
            "Layer (type)                 Output Shape              Param #   \n",
            "=================================================================\n",
            "dense_28 (Dense)             (None, 1)                 201       \n",
            "=================================================================\n",
            "Total params: 201\n",
            "Trainable params: 201\n",
            "Non-trainable params: 0\n",
            "_________________________________________________________________\n",
            "3999/3999 [==============================] - 6s 2ms/step - loss: 32.1080 - accuracy: 0.8954 - val_loss: 4.7756 - val_accuracy: 0.9240\n",
            "\n",
            "\n",
            "\n",
            " starting classification for 11\n",
            "Model: \"sequential_29\"\n",
            "_________________________________________________________________\n",
            "Layer (type)                 Output Shape              Param #   \n",
            "=================================================================\n",
            "dense_29 (Dense)             (None, 1)                 201       \n",
            "=================================================================\n",
            "Total params: 201\n",
            "Trainable params: 201\n",
            "Non-trainable params: 0\n",
            "_________________________________________________________________\n",
            "3999/3999 [==============================] - 6s 1ms/step - loss: 23.4671 - accuracy: 0.9521 - val_loss: 3.5582 - val_accuracy: 0.9577\n",
            "\n",
            "\n",
            "\n",
            " starting classification for 12\n",
            "Model: \"sequential_30\"\n",
            "_________________________________________________________________\n",
            "Layer (type)                 Output Shape              Param #   \n",
            "=================================================================\n",
            "dense_30 (Dense)             (None, 1)                 201       \n",
            "=================================================================\n",
            "Total params: 201\n",
            "Trainable params: 201\n",
            "Non-trainable params: 0\n",
            "_________________________________________________________________\n",
            "3999/3999 [==============================] - 6s 2ms/step - loss: 23.1678 - accuracy: 0.9482 - val_loss: 5.0183 - val_accuracy: 0.9704\n",
            "\n",
            "\n",
            "\n",
            " starting classification for 13\n",
            "Model: \"sequential_31\"\n",
            "_________________________________________________________________\n",
            "Layer (type)                 Output Shape              Param #   \n",
            "=================================================================\n",
            "dense_31 (Dense)             (None, 1)                 201       \n",
            "=================================================================\n",
            "Total params: 201\n",
            "Trainable params: 201\n",
            "Non-trainable params: 0\n",
            "_________________________________________________________________\n",
            "3999/3999 [==============================] - 7s 2ms/step - loss: 27.1394 - accuracy: 0.8924 - val_loss: 6.4587 - val_accuracy: 0.8109\n",
            "\n",
            "\n",
            "\n",
            " starting classification for 14\n",
            "Model: \"sequential_32\"\n",
            "_________________________________________________________________\n",
            "Layer (type)                 Output Shape              Param #   \n",
            "=================================================================\n",
            "dense_32 (Dense)             (None, 1)                 201       \n",
            "=================================================================\n",
            "Total params: 201\n",
            "Trainable params: 201\n",
            "Non-trainable params: 0\n",
            "_________________________________________________________________\n",
            "3999/3999 [==============================] - 6s 2ms/step - loss: 40.3077 - accuracy: 0.7500 - val_loss: 9.6329 - val_accuracy: 0.6975\n"
          ]
        }
      ]
    },
    {
      "cell_type": "code",
      "metadata": {
        "id": "_rurSwoLl1r6"
      },
      "source": [
        "y_hat = np.zeros(y_valid.shape)\n",
        "\n",
        "for i in range(15):\n",
        "  y_hat[:,i] = prob_dict[i].reshape(y_hat[:,i].shape)"
      ],
      "execution_count": 50,
      "outputs": []
    },
    {
      "cell_type": "code",
      "metadata": {
        "id": "3ho5hZ83YZ1_"
      },
      "source": [
        "y_diff = np.abs(y_hat - y_valid)"
      ],
      "execution_count": 56,
      "outputs": []
    },
    {
      "cell_type": "code",
      "metadata": {
        "id": "Z0_uDx4VYdvT"
      },
      "source": [
        "acc = 1 - np.sum(y_diff/2)/y_valid.shape[0]"
      ],
      "execution_count": 59,
      "outputs": []
    },
    {
      "cell_type": "code",
      "metadata": {
        "colab": {
          "base_uri": "https://localhost:8080/"
        },
        "id": "j4SCBzx9YfMs",
        "outputId": "a0fe7eaf-59a3-4369-dcc8-60c55f2aafd5"
      },
      "source": [
        "acc"
      ],
      "execution_count": 60,
      "outputs": [
        {
          "output_type": "execute_result",
          "data": {
            "text/plain": [
              "0.1465123094958969"
            ]
          },
          "metadata": {},
          "execution_count": 60
        }
      ]
    }
  ]
}