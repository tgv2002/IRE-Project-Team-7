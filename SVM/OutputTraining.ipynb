{
 "cells": [
  {
   "cell_type": "markdown",
   "id": "bb0196a6",
   "metadata": {
    "tags": [
     "papermill-error-cell-tag"
    ]
   },
   "source": [
    "<span style=\"color:red; font-family:Helvetica Neue, Helvetica, Arial, sans-serif; font-size:2em;\">An Exception was encountered at '<a href=\"#papermill-error-cell\">In [7]</a>'.</span>"
   ]
  },
  {
   "cell_type": "code",
   "execution_count": 1,
   "id": "bd06250a",
   "metadata": {
    "execution": {
     "iopub.execute_input": "2021-11-16T05:39:22.749903Z",
     "iopub.status.busy": "2021-11-16T05:39:22.749421Z",
     "iopub.status.idle": "2021-11-16T05:39:23.613341Z",
     "shell.execute_reply": "2021-11-16T05:39:23.612844Z"
    },
    "papermill": {
     "duration": 0.885922,
     "end_time": "2021-11-16T05:39:23.613467",
     "exception": false,
     "start_time": "2021-11-16T05:39:22.727545",
     "status": "completed"
    },
    "tags": []
   },
   "outputs": [],
   "source": [
    "# Required imports\n",
    "import matplotlib\n",
    "import numpy as np\n",
    "import pandas as pd\n",
    "from sklearn.ensemble import RandomForestClassifier\n",
    "from sklearn.model_selection import train_test_split\n",
    "from sklearn.feature_extraction.text import CountVectorizer\n",
    "from sklearn.feature_extraction.text import TfidfTransformer\n",
    "from sklearn.utils import shuffle\n",
    "from sklearn.metrics import classification_report, accuracy_score\n",
    "import re\n",
    "# from tensorflow.keras.utils import to_categorical\n",
    "from sklearn.preprocessing import LabelEncoder\n",
    "from nltk.corpus import stopwords\n",
    "stop_words = set(stopwords.words('english'))\n",
    "from sklearn import model_selection, naive_bayes, svm\n",
    "import pickle"
   ]
  },
  {
   "cell_type": "code",
   "execution_count": 2,
   "id": "10cfab5e",
   "metadata": {
    "execution": {
     "iopub.execute_input": "2021-11-16T05:39:23.646126Z",
     "iopub.status.busy": "2021-11-16T05:39:23.645583Z",
     "iopub.status.idle": "2021-11-16T05:39:23.647140Z",
     "shell.execute_reply": "2021-11-16T05:39:23.647498Z"
    },
    "papermill": {
     "duration": 0.019173,
     "end_time": "2021-11-16T05:39:23.647599",
     "exception": false,
     "start_time": "2021-11-16T05:39:23.628426",
     "status": "completed"
    },
    "tags": []
   },
   "outputs": [],
   "source": [
    "# cleaning data\n",
    "def clean_post(post):\n",
    "    post = post.lower()\n",
    "    post = re.sub(r\"\\n\", \" \", post)\n",
    "    post = re.sub(\"[\\<\\[].*?[\\>\\]]\", \" \", post)\n",
    "    post = re.sub(r\"[^a-z ]\", \" \", post)\n",
    "    post = re.sub(r\"\\b\\w{1,3}\\b\", \" \", post)\n",
    "    return \" \".join([x for x in post.split() if x not in stop_words])"
   ]
  },
  {
   "cell_type": "code",
   "execution_count": 3,
   "id": "be3d80f0",
   "metadata": {
    "execution": {
     "iopub.execute_input": "2021-11-16T05:39:23.682396Z",
     "iopub.status.busy": "2021-11-16T05:39:23.681748Z",
     "iopub.status.idle": "2021-11-16T05:39:23.751944Z",
     "shell.execute_reply": "2021-11-16T05:39:23.751487Z"
    },
    "papermill": {
     "duration": 0.090489,
     "end_time": "2021-11-16T05:39:23.752184",
     "exception": false,
     "start_time": "2021-11-16T05:39:23.661695",
     "status": "completed"
    },
    "tags": []
   },
   "outputs": [],
   "source": [
    "# Different techniques for tackling class imbalance\n",
    "from imblearn.under_sampling import RandomUnderSampler, TomekLinks, NearMiss\n",
    "from imblearn.over_sampling import RandomOverSampler, SMOTE\n",
    "\n",
    "def balance_data(x, y, _type):\n",
    "    if _type == 0:\n",
    "        ros = RandomOverSampler(random_state=42)\n",
    "        return ros.fit_resample(x, y)\n",
    "    elif _type == 1:\n",
    "        rus = RandomUnderSampler(random_state=42, replacement=True)\n",
    "        return rus.fit_resample(x, y)\n",
    "    elif _type == 2:\n",
    "        smote = SMOTE()\n",
    "        return smote.fit_resample(x, y)\n",
    "    elif _type == 3:\n",
    "        nm = NearMiss()\n",
    "        return nm.fit_resample(x, y)\n",
    "    elif _type == 6:\n",
    "        tl = TomekLinks()\n",
    "        return tl.fit_resample(x, y)\n",
    "    return x, y\n",
    "    # Another technique is penalizing the algo with class_weight=balanced, using stratified cross validation"
   ]
  },
  {
   "cell_type": "code",
   "execution_count": 4,
   "id": "4633de55",
   "metadata": {
    "execution": {
     "iopub.execute_input": "2021-11-16T05:39:23.784593Z",
     "iopub.status.busy": "2021-11-16T05:39:23.784106Z",
     "iopub.status.idle": "2021-11-16T05:40:16.247720Z",
     "shell.execute_reply": "2021-11-16T05:40:16.248115Z"
    },
    "papermill": {
     "duration": 52.480975,
     "end_time": "2021-11-16T05:40:16.248260",
     "exception": false,
     "start_time": "2021-11-16T05:39:23.767285",
     "status": "completed"
    },
    "tags": []
   },
   "outputs": [
    {
     "name": "stdout",
     "output_type": "stream",
     "text": [
      "                mental_disorder                             \n",
      "                          count unique            top   freq\n",
      "mental_disorder                                             \n",
      "EDAnonymous               12339      1    EDAnonymous  12339\n",
      "addiction                  6515      1      addiction   6515\n",
      "adhd                      38786      1           adhd  38786\n",
      "alcoholism                 5026      1     alcoholism   5026\n",
      "anxiety                   48971      1        anxiety  48971\n",
      "autism                     7583      1         autism   7583\n",
      "bipolarreddit              4929      1  bipolarreddit   4929\n",
      "bpd                       20606      1            bpd  20606\n",
      "depression                99809      1     depression  99809\n",
      "healthanxiety              7373      1  healthanxiety   7373\n",
      "lonely                    20103      1         lonely  20103\n",
      "ptsd                       7336      1           ptsd   7336\n",
      "schizophrenia              7351      1  schizophrenia   7351\n",
      "socialanxiety             19416      1  socialanxiety  19416\n",
      "suicidewatch              56357      1   suicidewatch  56357\n"
     ]
    }
   ],
   "source": [
    "# Load data\n",
    "data = pd.read_csv('/home/starc52/split_reddit_data/train_and_valid.csv')\n",
    "data = shuffle(data)\n",
    "\n",
    "# Class split stats\n",
    "print(data.groupby(['mental_disorder'])[['mental_disorder']].describe())\n",
    "x = data['post'].apply(lambda post: clean_post(post))\n",
    "\n",
    "# Vectorizing text data\n",
    "count_vect = CountVectorizer()\n",
    "X_counts = count_vect.fit_transform(x)\n",
    "tfidf_transformer = TfidfTransformer()\n",
    "X = tfidf_transformer.fit_transform(X_counts)"
   ]
  },
  {
   "cell_type": "code",
   "execution_count": 5,
   "id": "5813a1e4",
   "metadata": {
    "execution": {
     "iopub.execute_input": "2021-11-16T05:40:16.281373Z",
     "iopub.status.busy": "2021-11-16T05:40:16.280946Z",
     "iopub.status.idle": "2021-11-16T05:40:16.476178Z",
     "shell.execute_reply": "2021-11-16T05:40:16.476553Z"
    },
    "papermill": {
     "duration": 0.213347,
     "end_time": "2021-11-16T05:40:16.476693",
     "exception": false,
     "start_time": "2021-11-16T05:40:16.263346",
     "status": "completed"
    },
    "tags": []
   },
   "outputs": [],
   "source": [
    "label_encoder = LabelEncoder()\n",
    "y = label_encoder.fit_transform(np.array(data['mental_disorder']))\n",
    "# y = to_categorical(y1)\n",
    "\n",
    "# 60-20-20 split\n",
    "X_train, X_valid, y_train, y_valid = train_test_split(X, y, test_size=0.176, random_state=321)"
   ]
  },
  {
   "cell_type": "code",
   "execution_count": 6,
   "id": "37a56835",
   "metadata": {
    "execution": {
     "iopub.execute_input": "2021-11-16T05:40:16.508642Z",
     "iopub.status.busy": "2021-11-16T05:40:16.508191Z",
     "iopub.status.idle": "2021-11-16T05:40:16.509750Z",
     "shell.execute_reply": "2021-11-16T05:40:16.510130Z"
    },
    "papermill": {
     "duration": 0.019082,
     "end_time": "2021-11-16T05:40:16.510234",
     "exception": false,
     "start_time": "2021-11-16T05:40:16.491152",
     "status": "completed"
    },
    "tags": []
   },
   "outputs": [],
   "source": [
    "def get_metrics(y_true, y_pred):\n",
    "    result1 = classification_report(y_true, y_pred)\n",
    "    print('Classification Report: ', result1)\n",
    "    result2 = accuracy_score(y_true, y_pred)\n",
    "    print('Accuracy: ', result2, \"\\n\\n\")"
   ]
  },
  {
   "cell_type": "markdown",
   "id": "fa18c9a3",
   "metadata": {
    "tags": [
     "papermill-error-cell-tag"
    ]
   },
   "source": [
    "<span id=\"papermill-error-cell\" style=\"color:red; font-family:Helvetica Neue, Helvetica, Arial, sans-serif; font-size:2em;\">Execution using papermill encountered an exception here and stopped:</span>"
   ]
  },
  {
   "cell_type": "code",
   "execution_count": 7,
   "id": "72f33d5e",
   "metadata": {
    "execution": {
     "iopub.execute_input": "2021-11-16T05:40:16.543593Z",
     "iopub.status.busy": "2021-11-16T05:40:16.542915Z",
     "iopub.status.idle": "2021-11-16T07:01:26.365786Z",
     "shell.execute_reply": "2021-11-16T07:01:26.366179Z"
    },
    "papermill": {
     "duration": 4869.841843,
     "end_time": "2021-11-16T07:01:26.366553",
     "exception": true,
     "start_time": "2021-11-16T05:40:16.524710",
     "status": "failed"
    },
    "tags": []
   },
   "outputs": [
    {
     "name": "stdout",
     "output_type": "stream",
     "text": [
      "##############################################################################################################\n",
      "\n",
      "\n",
      "\n"
     ]
    },
    {
     "ename": "AttributeError",
     "evalue": "as_matrix not found",
     "output_type": "error",
     "traceback": [
      "\u001b[0;31m---------------------------------------------------------------------------\u001b[0m",
      "\u001b[0;31mAttributeError\u001b[0m                            Traceback (most recent call last)",
      "\u001b[0;32m/tmp/ipykernel_14891/199565199.py\u001b[0m in \u001b[0;36m<module>\u001b[0;34m\u001b[0m\n\u001b[1;32m      9\u001b[0m \u001b[0mmodel\u001b[0m \u001b[0;34m=\u001b[0m \u001b[0msvm\u001b[0m\u001b[0;34m.\u001b[0m\u001b[0mSVC\u001b[0m\u001b[0;34m(\u001b[0m\u001b[0mC\u001b[0m\u001b[0;34m=\u001b[0m\u001b[0;36m1.0\u001b[0m\u001b[0;34m,\u001b[0m \u001b[0mkernel\u001b[0m\u001b[0;34m=\u001b[0m\u001b[0;34m'linear'\u001b[0m\u001b[0;34m,\u001b[0m \u001b[0mdegree\u001b[0m\u001b[0;34m=\u001b[0m\u001b[0;36m3\u001b[0m\u001b[0;34m,\u001b[0m \u001b[0mgamma\u001b[0m\u001b[0;34m=\u001b[0m\u001b[0;34m'auto'\u001b[0m\u001b[0;34m)\u001b[0m\u001b[0;34m\u001b[0m\u001b[0;34m\u001b[0m\u001b[0m\n\u001b[1;32m     10\u001b[0m \u001b[0mX_train\u001b[0m\u001b[0;34m,\u001b[0m \u001b[0my_train\u001b[0m \u001b[0;34m=\u001b[0m \u001b[0mbalance_data\u001b[0m\u001b[0;34m(\u001b[0m\u001b[0mX_tr\u001b[0m\u001b[0;34m,\u001b[0m \u001b[0my_tr\u001b[0m\u001b[0;34m,\u001b[0m \u001b[0;36m6\u001b[0m\u001b[0;34m)\u001b[0m\u001b[0;34m\u001b[0m\u001b[0;34m\u001b[0m\u001b[0m\n\u001b[0;32m---> 11\u001b[0;31m \u001b[0mmodel\u001b[0m\u001b[0;34m.\u001b[0m\u001b[0mfit\u001b[0m\u001b[0;34m(\u001b[0m\u001b[0mX_train\u001b[0m\u001b[0;34m.\u001b[0m\u001b[0mas_matrix\u001b[0m\u001b[0;34m(\u001b[0m\u001b[0;34m)\u001b[0m\u001b[0;34m,\u001b[0m \u001b[0my_train\u001b[0m\u001b[0;34m.\u001b[0m\u001b[0mas_matrix\u001b[0m\u001b[0;34m(\u001b[0m\u001b[0;34m)\u001b[0m\u001b[0;34m)\u001b[0m\u001b[0;34m\u001b[0m\u001b[0;34m\u001b[0m\u001b[0m\n\u001b[0m\u001b[1;32m     12\u001b[0m \u001b[0mpickle\u001b[0m\u001b[0;34m.\u001b[0m\u001b[0mdump\u001b[0m\u001b[0;34m(\u001b[0m\u001b[0mmodel\u001b[0m\u001b[0;34m,\u001b[0m \u001b[0mopen\u001b[0m\u001b[0;34m(\u001b[0m\u001b[0;34m\"/home/starc52/models/SVM.pickle.dat\"\u001b[0m\u001b[0;34m,\u001b[0m \u001b[0;34m\"wb\"\u001b[0m\u001b[0;34m)\u001b[0m\u001b[0;34m)\u001b[0m\u001b[0;34m\u001b[0m\u001b[0;34m\u001b[0m\u001b[0m\n\u001b[1;32m     13\u001b[0m \u001b[0mprint\u001b[0m\u001b[0;34m(\u001b[0m\u001b[0;34m)\u001b[0m\u001b[0;34m\u001b[0m\u001b[0;34m\u001b[0m\u001b[0m\n",
      "\u001b[0;32m~/miniconda3/envs/p3/lib/python3.8/site-packages/scipy/sparse/base.py\u001b[0m in \u001b[0;36m__getattr__\u001b[0;34m(self, attr)\u001b[0m\n\u001b[1;32m    685\u001b[0m             \u001b[0;32mreturn\u001b[0m \u001b[0mself\u001b[0m\u001b[0;34m.\u001b[0m\u001b[0mgetnnz\u001b[0m\u001b[0;34m(\u001b[0m\u001b[0;34m)\u001b[0m\u001b[0;34m\u001b[0m\u001b[0;34m\u001b[0m\u001b[0m\n\u001b[1;32m    686\u001b[0m         \u001b[0;32melse\u001b[0m\u001b[0;34m:\u001b[0m\u001b[0;34m\u001b[0m\u001b[0;34m\u001b[0m\u001b[0m\n\u001b[0;32m--> 687\u001b[0;31m             \u001b[0;32mraise\u001b[0m \u001b[0mAttributeError\u001b[0m\u001b[0;34m(\u001b[0m\u001b[0mattr\u001b[0m \u001b[0;34m+\u001b[0m \u001b[0;34m\" not found\"\u001b[0m\u001b[0;34m)\u001b[0m\u001b[0;34m\u001b[0m\u001b[0;34m\u001b[0m\u001b[0m\n\u001b[0m\u001b[1;32m    688\u001b[0m \u001b[0;34m\u001b[0m\u001b[0m\n\u001b[1;32m    689\u001b[0m     \u001b[0;32mdef\u001b[0m \u001b[0mtranspose\u001b[0m\u001b[0;34m(\u001b[0m\u001b[0mself\u001b[0m\u001b[0;34m,\u001b[0m \u001b[0maxes\u001b[0m\u001b[0;34m=\u001b[0m\u001b[0;32mNone\u001b[0m\u001b[0;34m,\u001b[0m \u001b[0mcopy\u001b[0m\u001b[0;34m=\u001b[0m\u001b[0;32mFalse\u001b[0m\u001b[0;34m)\u001b[0m\u001b[0;34m:\u001b[0m\u001b[0;34m\u001b[0m\u001b[0;34m\u001b[0m\u001b[0m\n",
      "\u001b[0;31mAttributeError\u001b[0m: as_matrix not found"
     ]
    }
   ],
   "source": [
    "import gc\n",
    "\n",
    "# Creating the model and checking it for various undersampled cases\n",
    "X_tr, y_tr = X_train, y_train\n",
    "print('#'*110)\n",
    "print()\n",
    "print()\n",
    "print()\n",
    "model = svm.SVC(C=1.0, kernel='linear', degree=3, gamma='auto')\n",
    "X_train, y_train = balance_data(X_tr, y_tr, 6)\n",
    "model.fit(X_train.as_matrix(), y_train.as_matrix())\n",
    "pickle.dump(model, open(\"/home/starc52/models/SVM.pickle.dat\", \"wb\"))\n",
    "print()\n",
    "print()\n",
    "print('#'*110)"
   ]
  }
 ],
 "metadata": {
  "kernelspec": {
   "display_name": "Python 3 (ipykernel)",
   "language": "python",
   "name": "python3"
  },
  "language_info": {
   "codemirror_mode": {
    "name": "ipython",
    "version": 3
   },
   "file_extension": ".py",
   "mimetype": "text/x-python",
   "name": "python",
   "nbconvert_exporter": "python",
   "pygments_lexer": "ipython3",
   "version": "3.8.12"
  },
  "papermill": {
   "default_parameters": {},
   "duration": 4925.796419,
   "end_time": "2021-11-16T07:01:26.993765",
   "environment_variables": {},
   "exception": true,
   "input_path": "/home/starc52/IRE-Project-Team-7/SVM/Training.ipynb",
   "output_path": "/home/starc52/IRE-Project-Team-7/SVM/OutputTraining.ipynb",
   "parameters": {},
   "start_time": "2021-11-16T05:39:21.197346",
   "version": "2.3.3"
  }
 },
 "nbformat": 4,
 "nbformat_minor": 5
}