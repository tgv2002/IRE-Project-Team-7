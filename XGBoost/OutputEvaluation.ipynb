{
 "cells": [
  {
   "cell_type": "markdown",
   "id": "d0cad441",
   "metadata": {
    "tags": [
     "papermill-error-cell-tag"
    ]
   },
   "source": [
    "<span style=\"color:red; font-family:Helvetica Neue, Helvetica, Arial, sans-serif; font-size:2em;\">An Exception was encountered at '<a href=\"#papermill-error-cell\">In [6]</a>'.</span>"
   ]
  },
  {
   "cell_type": "code",
   "execution_count": 1,
   "id": "8149987f",
   "metadata": {
    "execution": {
     "iopub.execute_input": "2021-11-16T05:39:08.365132Z",
     "iopub.status.busy": "2021-11-16T05:39:08.364680Z",
     "iopub.status.idle": "2021-11-16T05:39:09.697742Z",
     "shell.execute_reply": "2021-11-16T05:39:09.697274Z"
    },
    "papermill": {
     "duration": 1.353021,
     "end_time": "2021-11-16T05:39:09.697864",
     "exception": false,
     "start_time": "2021-11-16T05:39:08.344843",
     "status": "completed"
    },
    "tags": []
   },
   "outputs": [],
   "source": [
    "# Required imports\n",
    "import matplotlib\n",
    "import numpy as np\n",
    "import pandas as pd\n",
    "from sklearn.ensemble import RandomForestClassifier\n",
    "from sklearn.model_selection import train_test_split\n",
    "from sklearn.feature_extraction.text import CountVectorizer\n",
    "from sklearn.feature_extraction.text import TfidfTransformer\n",
    "from sklearn.utils import shuffle\n",
    "from sklearn.metrics import classification_report, accuracy_score\n",
    "import re\n",
    "# from tensorflow.keras.utils import to_categorical\n",
    "from sklearn.preprocessing import LabelEncoder\n",
    "from nltk.corpus import stopwords\n",
    "stop_words = set(stopwords.words('english'))\n",
    "\n",
    "from numpy import loadtxt\n",
    "from xgboost import XGBClassifier\n",
    "import pickle"
   ]
  },
  {
   "cell_type": "code",
   "execution_count": 2,
   "id": "96994e8f",
   "metadata": {
    "execution": {
     "iopub.execute_input": "2021-11-16T05:39:09.726537Z",
     "iopub.status.busy": "2021-11-16T05:39:09.726101Z",
     "iopub.status.idle": "2021-11-16T05:39:09.727680Z",
     "shell.execute_reply": "2021-11-16T05:39:09.728046Z"
    },
    "papermill": {
     "duration": 0.017307,
     "end_time": "2021-11-16T05:39:09.728151",
     "exception": false,
     "start_time": "2021-11-16T05:39:09.710844",
     "status": "completed"
    },
    "tags": []
   },
   "outputs": [],
   "source": [
    "# cleaning data\n",
    "def clean_post(post):\n",
    "    post = post.lower()\n",
    "    post = re.sub(r\"\\n\", \" \", post)\n",
    "    post = re.sub(\"[\\<\\[].*?[\\>\\]]\", \" \", post)\n",
    "    post = re.sub(r\"[^a-z ]\", \" \", post)\n",
    "    post = re.sub(r\"\\b\\w{1,3}\\b\", \" \", post)\n",
    "    return \" \".join([x for x in post.split() if x not in stop_words])"
   ]
  },
  {
   "cell_type": "code",
   "execution_count": 3,
   "id": "44033f61",
   "metadata": {
    "execution": {
     "iopub.execute_input": "2021-11-16T05:39:09.758012Z",
     "iopub.status.busy": "2021-11-16T05:39:09.757538Z",
     "iopub.status.idle": "2021-11-16T05:39:09.758937Z",
     "shell.execute_reply": "2021-11-16T05:39:09.759300Z"
    },
    "papermill": {
     "duration": 0.019106,
     "end_time": "2021-11-16T05:39:09.759431",
     "exception": false,
     "start_time": "2021-11-16T05:39:09.740325",
     "status": "completed"
    },
    "tags": []
   },
   "outputs": [],
   "source": [
    "def get_metrics(y_true, y_pred):\n",
    "    result1 = classification_report(y_true, y_pred)\n",
    "    print('Classification Report: ', result1)\n",
    "    result2 = accuracy_score(y_true, y_pred)\n",
    "    print('Accuracy: ', result2, \"\\n\\n\")"
   ]
  },
  {
   "cell_type": "code",
   "execution_count": 4,
   "id": "82e911da",
   "metadata": {
    "execution": {
     "iopub.execute_input": "2021-11-16T05:39:09.789659Z",
     "iopub.status.busy": "2021-11-16T05:39:09.789210Z",
     "iopub.status.idle": "2021-11-16T05:39:09.791064Z",
     "shell.execute_reply": "2021-11-16T05:39:09.790707Z"
    },
    "papermill": {
     "duration": 0.019215,
     "end_time": "2021-11-16T05:39:09.791153",
     "exception": false,
     "start_time": "2021-11-16T05:39:09.771938",
     "status": "completed"
    },
    "tags": []
   },
   "outputs": [],
   "source": [
    "def evaluate_on_test_data():\n",
    "    # Load data\n",
    "    data = pd.read_csv('/home/starc52/split_reddit_data/test.csv')\n",
    "    data = shuffle(data)\n",
    "\n",
    "    # Class split stats\n",
    "    print(data.groupby(['mental_disorder'])[['mental_disorder']].describe())\n",
    "    x = data['post'].apply(lambda post: clean_post(post))\n",
    "\n",
    "    # Vectorizing text data\n",
    "    count_vect = CountVectorizer()\n",
    "    X_counts = count_vect.fit_transform(x)\n",
    "    tfidf_transformer = TfidfTransformer()\n",
    "    X = tfidf_transformer.fit_transform(X_counts)\n",
    "    \n",
    "    label_encoder = LabelEncoder()\n",
    "    y = label_encoder.fit_transform(np.array(data['mental_disorder']))\n",
    "    \n",
    "    # Evaluating for best version\n",
    "    model = pickle.load(open(\"/home/starc52/models/XGBoost.pickle.dat\", \"rb\"))\n",
    "    \n",
    "    # Predict on test dataset\n",
    "    pred_test = model.predict(X)\n",
    "    get_metrics(y, pred_test)\n",
    "    print()\n",
    "    print()\n",
    "    print('#'*110)\n",
    "    return np.argmax(pred_test, axis=1)"
   ]
  },
  {
   "cell_type": "code",
   "execution_count": 5,
   "id": "5efd313d",
   "metadata": {
    "execution": {
     "iopub.execute_input": "2021-11-16T05:39:09.819754Z",
     "iopub.status.busy": "2021-11-16T05:39:09.819237Z",
     "iopub.status.idle": "2021-11-16T05:39:09.820939Z",
     "shell.execute_reply": "2021-11-16T05:39:09.821286Z"
    },
    "papermill": {
     "duration": 0.017769,
     "end_time": "2021-11-16T05:39:09.821391",
     "exception": false,
     "start_time": "2021-11-16T05:39:09.803622",
     "status": "completed"
    },
    "tags": []
   },
   "outputs": [],
   "source": [
    "def get_text_label(text):\n",
    "    X_test = np.array([clean_post(text),])\n",
    "    \n",
    "    # Vectorizing text data\n",
    "    count_vect = CountVectorizer()\n",
    "    X_counts = count_vect.fit_transform(X_test)\n",
    "    tfidf_transformer = TfidfTransformer()\n",
    "    X_test = tfidf_transformer.fit_transform(X_counts)\n",
    "    \n",
    "    \n",
    "    # Evaluating\n",
    "    model = pickle.load(open(\"/home/starc52/models/XGBoost.pickle.dat\", \"rb\"))\n",
    "    # cols_when_model_builds = model.get_booster().feature_names\n",
    "    # X_test=X_test[cols_when_model_builds]\n",
    "    pred_test = model.predict(X_test.as_matrix())\n",
    "    return np.argmax(pred_test, axis=1)[0]"
   ]
  },
  {
   "cell_type": "markdown",
   "id": "6e571c06",
   "metadata": {
    "tags": [
     "papermill-error-cell-tag"
    ]
   },
   "source": [
    "<span id=\"papermill-error-cell\" style=\"color:red; font-family:Helvetica Neue, Helvetica, Arial, sans-serif; font-size:2em;\">Execution using papermill encountered an exception here and stopped:</span>"
   ]
  },
  {
   "cell_type": "code",
   "execution_count": 6,
   "id": "c44c3c24",
   "metadata": {
    "execution": {
     "iopub.execute_input": "2021-11-16T05:39:09.847679Z",
     "iopub.status.busy": "2021-11-16T05:39:09.847227Z",
     "iopub.status.idle": "2021-11-16T05:39:20.173171Z",
     "shell.execute_reply": "2021-11-16T05:39:20.172694Z"
    },
    "papermill": {
     "duration": 10.339977,
     "end_time": "2021-11-16T05:39:20.173430",
     "exception": true,
     "start_time": "2021-11-16T05:39:09.833453",
     "status": "failed"
    },
    "tags": []
   },
   "outputs": [
    {
     "name": "stdout",
     "output_type": "stream",
     "text": [
      "                mental_disorder                             \n",
      "                          count unique            top   freq\n",
      "mental_disorder                                             \n",
      "EDAnonymous                2238      1    EDAnonymous   2238\n",
      "addiction                  1126      1      addiction   1126\n",
      "adhd                       6845      1           adhd   6845\n",
      "alcoholism                  885      1     alcoholism    885\n",
      "anxiety                    8700      1        anxiety   8700\n",
      "autism                     1286      1         autism   1286\n",
      "bipolarreddit               851      1  bipolarreddit    851\n",
      "bpd                        3688      1            bpd   3688\n",
      "depression                17522      1     depression  17522\n",
      "healthanxiety              1275      1  healthanxiety   1275\n",
      "lonely                     3532      1         lonely   3532\n",
      "ptsd                       1307      1           ptsd   1307\n",
      "schizophrenia              1361      1  schizophrenia   1361\n",
      "socialanxiety              3580      1  socialanxiety   3580\n",
      "suicidewatch               9804      1   suicidewatch   9804\n"
     ]
    },
    {
     "ename": "FileNotFoundError",
     "evalue": "[Errno 2] No such file or directory: '/home/starc52/models/XGBoost.pickle.dat'",
     "output_type": "error",
     "traceback": [
      "\u001b[0;31m---------------------------------------------------------------------------\u001b[0m",
      "\u001b[0;31mFileNotFoundError\u001b[0m                         Traceback (most recent call last)",
      "\u001b[0;32m/tmp/ipykernel_14861/1430076202.py\u001b[0m in \u001b[0;36m<module>\u001b[0;34m\u001b[0m\n\u001b[0;32m----> 1\u001b[0;31m \u001b[0mpred_labels\u001b[0m \u001b[0;34m=\u001b[0m \u001b[0mevaluate_on_test_data\u001b[0m\u001b[0;34m(\u001b[0m\u001b[0;34m)\u001b[0m\u001b[0;34m\u001b[0m\u001b[0;34m\u001b[0m\u001b[0m\n\u001b[0m",
      "\u001b[0;32m/tmp/ipykernel_14861/2369760474.py\u001b[0m in \u001b[0;36mevaluate_on_test_data\u001b[0;34m()\u001b[0m\n\u001b[1;32m     18\u001b[0m \u001b[0;34m\u001b[0m\u001b[0m\n\u001b[1;32m     19\u001b[0m     \u001b[0;31m# Evaluating for best version\u001b[0m\u001b[0;34m\u001b[0m\u001b[0;34m\u001b[0m\u001b[0;34m\u001b[0m\u001b[0m\n\u001b[0;32m---> 20\u001b[0;31m     \u001b[0mmodel\u001b[0m \u001b[0;34m=\u001b[0m \u001b[0mpickle\u001b[0m\u001b[0;34m.\u001b[0m\u001b[0mload\u001b[0m\u001b[0;34m(\u001b[0m\u001b[0mopen\u001b[0m\u001b[0;34m(\u001b[0m\u001b[0;34m\"/home/starc52/models/XGBoost.pickle.dat\"\u001b[0m\u001b[0;34m,\u001b[0m \u001b[0;34m\"rb\"\u001b[0m\u001b[0;34m)\u001b[0m\u001b[0;34m)\u001b[0m\u001b[0;34m\u001b[0m\u001b[0;34m\u001b[0m\u001b[0m\n\u001b[0m\u001b[1;32m     21\u001b[0m \u001b[0;34m\u001b[0m\u001b[0m\n\u001b[1;32m     22\u001b[0m     \u001b[0;31m# Predict on test dataset\u001b[0m\u001b[0;34m\u001b[0m\u001b[0;34m\u001b[0m\u001b[0;34m\u001b[0m\u001b[0m\n",
      "\u001b[0;31mFileNotFoundError\u001b[0m: [Errno 2] No such file or directory: '/home/starc52/models/XGBoost.pickle.dat'"
     ]
    }
   ],
   "source": [
    "pred_labels = evaluate_on_test_data()"
   ]
  }
 ],
 "metadata": {
  "kernelspec": {
   "display_name": "Python 3",
   "language": "python",
   "name": "python3"
  },
  "language_info": {
   "codemirror_mode": {
    "name": "ipython",
    "version": 3
   },
   "file_extension": ".py",
   "mimetype": "text/x-python",
   "name": "python",
   "nbconvert_exporter": "python",
   "pygments_lexer": "ipython3",
   "version": "3.8.12"
  },
  "papermill": {
   "default_parameters": {},
   "duration": 13.993087,
   "end_time": "2021-11-16T05:39:20.494596",
   "environment_variables": {},
   "exception": true,
   "input_path": "/home/starc52/IRE-Project-Team-7/XGBoost/Evaluation.ipynb",
   "output_path": "/home/starc52/IRE-Project-Team-7/XGBoost/OutputEvaluation.ipynb",
   "parameters": {},
   "start_time": "2021-11-16T05:39:06.501509",
   "version": "2.3.3"
  }
 },
 "nbformat": 4,
 "nbformat_minor": 5
}